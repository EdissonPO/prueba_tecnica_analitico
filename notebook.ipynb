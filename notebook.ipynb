{
 "cells": [
  {
   "cell_type": "markdown",
   "metadata": {},
   "source": [
    "# Prueba Técnica\n",
    "\n",
    "##### **Objetivo:** Asignación de retos comerciales para la variable de GCAR del negocio empresarial por gerente comercial y análisis de tamaño comercial.\n",
    "\n",
    "### **Tener en cuenta:**\n",
    "- El reto para la variable de GCAR de la Vicepresidencia Empresarial para 2024 es un crecimiento del 15% adicional vs el año anterior.\n",
    "- La Vicepresidencia Empresarial consta de 8 zonas y 78 gerentes comerciales.\n",
    "- En la hoja datos se encuentran los datos codificados de la GCAR y tamaño comercial por gerente comercial y zona de enero 2022 a diciembre 2023. El dato es generado mensualmente, es decir, no se encuentra acumulado.\n",
    "- En la hoja Zonas códigos se encuentra la relación del código de zona y el nombre de la zona. En la hoja Rubros códigos se encuentra el código del rubro y la descripción del mismo.\n",
    "- Para encontrar el valor del reto de GCAR se debe acumular los resultados del año 2023 y aplicar la tasa de crecimiento para el año 2024.\n",
    "- Recordar que el TC se acumula como el promedio de los meses y la GCAR en suma. El cierre de cada año es acumulado de enero a diciembre."
   ]
  },
  {
   "cell_type": "markdown",
   "metadata": {},
   "source": [
    "---\n",
    "\n",
    "### **Actividad 1:  Responda las siguientes preguntas:**\n",
    "\n",
    "1. Cuál fue el gerente con mayor crecimiento en su Tamaño comercial entre 2022 y 2023? **//** el gerente con mayor crecimiento comercial es el **9116** con un crecimiento de **67.817,44**\n",
    "2. Cuánto fue el crecimiento de la zona Antioquia 1 en GCAR entre 2022 y 2023? **//** el crecimiento de la zona Antioquia 1 en GCAR fue de **993.99**\n",
    "3. Cuál fue la zona con menor GCAR en el segundo semestre de 2022 y la de mayor tamaño comercial en todo 2023? **//** la zona de menor GCAR es la zona **22300** \"VP Empresas zona Centro\" y la zona **22220**\t\"VP Empresas zona Bogotá 2\" fue la de mayor tamaño comercial en el 2023\n"
   ]
  },
  {
   "cell_type": "code",
   "execution_count": 1,
   "metadata": {},
   "outputs": [],
   "source": [
    "# Importamos las libreria pandas para trabajar con los datos y responder las preguntas de la actividad 1\n",
    "import pandas as pd\n",
    "pd.options.display.float_format = '{:.2f}'.format"
   ]
  },
  {
   "cell_type": "code",
   "execution_count": 2,
   "metadata": {},
   "outputs": [],
   "source": [
    "# Importamos los datos necesarios del archivo de excel para resolver las preguntas de la actividad 1\n",
    "\n",
    "df_datos = pd.read_excel(r'Prueba Bancolombia 2024 (analitico).xlsx', sheet_name='Datos')\n",
    "df_rubros_codigos = pd.read_excel(r'Prueba Bancolombia 2024 (analitico).xlsx', sheet_name='Rubros codigos')\n",
    "df_zonas_codigos = pd.read_excel(r'Prueba Bancolombia 2024 (analitico).xlsx', sheet_name='Zonas códigos')"
   ]
  },
  {
   "cell_type": "markdown",
   "metadata": {},
   "source": [
    "    Creamos 2 columnas para saber los acumulados del 2022 y 2023 siguiendo las reglas de la actividad 1, donde se menciona que el acumulado de GCAR se suma y el de TC se promedia"
   ]
  },
  {
   "cell_type": "code",
   "execution_count": 3,
   "metadata": {},
   "outputs": [],
   "source": [
    "df_datos.loc[df_datos['cod_rubro'] == 95999, 'acumulado_2022'] = df_datos.loc[df_datos['cod_rubro'] == 95999].filter(like='2022').sum(axis=1)\n",
    "df_datos.loc[df_datos['cod_rubro'] == 96450, 'acumulado_2022'] = df_datos.loc[df_datos['cod_rubro'] == 96450].filter(like='2022').mean(axis=1)\n",
    "\n",
    "df_datos.loc[df_datos['cod_rubro'] == 95999, 'acumulado_2023'] = df_datos.loc[df_datos['cod_rubro'] == 95999].filter(like='2023').sum(axis=1)\n",
    "df_datos.loc[df_datos['cod_rubro'] == 96450, 'acumulado_2023'] = df_datos.loc[df_datos['cod_rubro'] == 96450].filter(like='2023').mean(axis=1)"
   ]
  },
  {
   "cell_type": "code",
   "execution_count": 4,
   "metadata": {},
   "outputs": [],
   "source": [
    "# Creamos una columna para saber el crecimiento restando los totales del 2023 - 2022\n",
    "\n",
    "df_datos['Crecimiento'] = df_datos['acumulado_2023'] - df_datos['acumulado_2022']"
   ]
  },
  {
   "cell_type": "markdown",
   "metadata": {},
   "source": [
    "Podemos ver las columnas **\"acumulado_2022\"**, **\"acumulado_2023\"** y **\"Crecimiento\"** creadas al final del DataFrame omitiendo los datos mensuales"
   ]
  },
  {
   "cell_type": "code",
   "execution_count": 5,
   "metadata": {},
   "outputs": [
    {
     "data": {
      "text/html": [
       "<div>\n",
       "<style scoped>\n",
       "    .dataframe tbody tr th:only-of-type {\n",
       "        vertical-align: middle;\n",
       "    }\n",
       "\n",
       "    .dataframe tbody tr th {\n",
       "        vertical-align: top;\n",
       "    }\n",
       "\n",
       "    .dataframe thead th {\n",
       "        text-align: right;\n",
       "    }\n",
       "</style>\n",
       "<table border=\"1\" class=\"dataframe\">\n",
       "  <thead>\n",
       "    <tr style=\"text-align: right;\">\n",
       "      <th></th>\n",
       "      <th>zona</th>\n",
       "      <th>gerente</th>\n",
       "      <th>cod_rubro</th>\n",
       "      <th>acumulado_2022</th>\n",
       "      <th>acumulado_2023</th>\n",
       "      <th>Crecimiento</th>\n",
       "    </tr>\n",
       "  </thead>\n",
       "  <tbody>\n",
       "    <tr>\n",
       "      <th>0</th>\n",
       "      <td>22110</td>\n",
       "      <td>9102</td>\n",
       "      <td>95999</td>\n",
       "      <td>6893.76</td>\n",
       "      <td>7932.29</td>\n",
       "      <td>1038.53</td>\n",
       "    </tr>\n",
       "    <tr>\n",
       "      <th>1</th>\n",
       "      <td>22110</td>\n",
       "      <td>9125</td>\n",
       "      <td>95999</td>\n",
       "      <td>7983.04</td>\n",
       "      <td>8027.06</td>\n",
       "      <td>44.02</td>\n",
       "    </tr>\n",
       "    <tr>\n",
       "      <th>2</th>\n",
       "      <td>22110</td>\n",
       "      <td>9166</td>\n",
       "      <td>95999</td>\n",
       "      <td>9072.92</td>\n",
       "      <td>7917.03</td>\n",
       "      <td>-1155.89</td>\n",
       "    </tr>\n",
       "    <tr>\n",
       "      <th>3</th>\n",
       "      <td>22110</td>\n",
       "      <td>9184</td>\n",
       "      <td>95999</td>\n",
       "      <td>7894.10</td>\n",
       "      <td>8752.69</td>\n",
       "      <td>858.59</td>\n",
       "    </tr>\n",
       "    <tr>\n",
       "      <th>4</th>\n",
       "      <td>22110</td>\n",
       "      <td>9198</td>\n",
       "      <td>95999</td>\n",
       "      <td>8232.61</td>\n",
       "      <td>6980.49</td>\n",
       "      <td>-1252.12</td>\n",
       "    </tr>\n",
       "    <tr>\n",
       "      <th>...</th>\n",
       "      <td>...</td>\n",
       "      <td>...</td>\n",
       "      <td>...</td>\n",
       "      <td>...</td>\n",
       "      <td>...</td>\n",
       "      <td>...</td>\n",
       "    </tr>\n",
       "    <tr>\n",
       "      <th>147</th>\n",
       "      <td>22500</td>\n",
       "      <td>9179</td>\n",
       "      <td>96450</td>\n",
       "      <td>136708.79</td>\n",
       "      <td>160233.37</td>\n",
       "      <td>23524.58</td>\n",
       "    </tr>\n",
       "    <tr>\n",
       "      <th>148</th>\n",
       "      <td>22500</td>\n",
       "      <td>9410</td>\n",
       "      <td>96450</td>\n",
       "      <td>121289.90</td>\n",
       "      <td>117929.00</td>\n",
       "      <td>-3360.90</td>\n",
       "    </tr>\n",
       "    <tr>\n",
       "      <th>149</th>\n",
       "      <td>22500</td>\n",
       "      <td>9411</td>\n",
       "      <td>96450</td>\n",
       "      <td>187765.81</td>\n",
       "      <td>192539.09</td>\n",
       "      <td>4773.28</td>\n",
       "    </tr>\n",
       "    <tr>\n",
       "      <th>150</th>\n",
       "      <td>22500</td>\n",
       "      <td>9901</td>\n",
       "      <td>96450</td>\n",
       "      <td>122541.93</td>\n",
       "      <td>125084.67</td>\n",
       "      <td>2542.74</td>\n",
       "    </tr>\n",
       "    <tr>\n",
       "      <th>151</th>\n",
       "      <td>22500</td>\n",
       "      <td>9903</td>\n",
       "      <td>96450</td>\n",
       "      <td>135007.40</td>\n",
       "      <td>125604.27</td>\n",
       "      <td>-9403.13</td>\n",
       "    </tr>\n",
       "  </tbody>\n",
       "</table>\n",
       "<p>152 rows × 6 columns</p>\n",
       "</div>"
      ],
      "text/plain": [
       "      zona  gerente  cod_rubro  acumulado_2022  acumulado_2023  Crecimiento\n",
       "0    22110     9102      95999         6893.76         7932.29      1038.53\n",
       "1    22110     9125      95999         7983.04         8027.06        44.02\n",
       "2    22110     9166      95999         9072.92         7917.03     -1155.89\n",
       "3    22110     9184      95999         7894.10         8752.69       858.59\n",
       "4    22110     9198      95999         8232.61         6980.49     -1252.12\n",
       "..     ...      ...        ...             ...             ...          ...\n",
       "147  22500     9179      96450       136708.79       160233.37     23524.58\n",
       "148  22500     9410      96450       121289.90       117929.00     -3360.90\n",
       "149  22500     9411      96450       187765.81       192539.09      4773.28\n",
       "150  22500     9901      96450       122541.93       125084.67      2542.74\n",
       "151  22500     9903      96450       135007.40       125604.27     -9403.13\n",
       "\n",
       "[152 rows x 6 columns]"
      ]
     },
     "execution_count": 5,
     "metadata": {},
     "output_type": "execute_result"
    }
   ],
   "source": [
    "df_datos.loc[: , ['zona', 'gerente', 'cod_rubro', 'acumulado_2022', 'acumulado_2023', 'Crecimiento']]"
   ]
  },
  {
   "cell_type": "markdown",
   "metadata": {},
   "source": [
    "#### **1. Cuál fue el gerente con mayor crecimiento en su Tamaño comercial entre 2022 y 2023?**\n",
    "    Para responder esta pregunta inicialmente Nos fijamos en el dataFrame de los rubros para identificar el codigo del Tamaño comercial "
   ]
  },
  {
   "cell_type": "code",
   "execution_count": 6,
   "metadata": {},
   "outputs": [
    {
     "data": {
      "text/html": [
       "<div>\n",
       "<style scoped>\n",
       "    .dataframe tbody tr th:only-of-type {\n",
       "        vertical-align: middle;\n",
       "    }\n",
       "\n",
       "    .dataframe tbody tr th {\n",
       "        vertical-align: top;\n",
       "    }\n",
       "\n",
       "    .dataframe thead th {\n",
       "        text-align: right;\n",
       "    }\n",
       "</style>\n",
       "<table border=\"1\" class=\"dataframe\">\n",
       "  <thead>\n",
       "    <tr style=\"text-align: right;\">\n",
       "      <th></th>\n",
       "      <th>descri_rubro</th>\n",
       "      <th>cod_rubro</th>\n",
       "    </tr>\n",
       "  </thead>\n",
       "  <tbody>\n",
       "    <tr>\n",
       "      <th>0</th>\n",
       "      <td>GCAR</td>\n",
       "      <td>95999</td>\n",
       "    </tr>\n",
       "    <tr>\n",
       "      <th>1</th>\n",
       "      <td>Tamaño comercial</td>\n",
       "      <td>96450</td>\n",
       "    </tr>\n",
       "  </tbody>\n",
       "</table>\n",
       "</div>"
      ],
      "text/plain": [
       "       descri_rubro  cod_rubro\n",
       "0              GCAR      95999\n",
       "1  Tamaño comercial      96450"
      ]
     },
     "execution_count": 6,
     "metadata": {},
     "output_type": "execute_result"
    }
   ],
   "source": [
    "df_rubros_codigos"
   ]
  },
  {
   "cell_type": "markdown",
   "metadata": {},
   "source": [
    "    Una vez hecho esto, solo filtramos el codigo 96450 y agrupamos por gerente"
   ]
  },
  {
   "cell_type": "code",
   "execution_count": 7,
   "metadata": {},
   "outputs": [],
   "source": [
    "df_temp = df_datos.loc[df_datos['cod_rubro'] == 96450].groupby('gerente').agg({'acumulado_2022': 'sum', 'acumulado_2023': 'sum', 'Crecimiento': 'sum'}).reset_index().copy()"
   ]
  },
  {
   "cell_type": "markdown",
   "metadata": {},
   "source": [
    "    Finalmente ordenamos los datos de mayor a menor utilizando la columna **\"Crecimiento\"**, para llegar a la conclusion de que el gerente con mayor crecimiento comercial es el 9116 con un crecimiento de 67.817,44"
   ]
  },
  {
   "cell_type": "code",
   "execution_count": 8,
   "metadata": {},
   "outputs": [
    {
     "data": {
      "text/html": [
       "<div>\n",
       "<style scoped>\n",
       "    .dataframe tbody tr th:only-of-type {\n",
       "        vertical-align: middle;\n",
       "    }\n",
       "\n",
       "    .dataframe tbody tr th {\n",
       "        vertical-align: top;\n",
       "    }\n",
       "\n",
       "    .dataframe thead th {\n",
       "        text-align: right;\n",
       "    }\n",
       "</style>\n",
       "<table border=\"1\" class=\"dataframe\">\n",
       "  <thead>\n",
       "    <tr style=\"text-align: right;\">\n",
       "      <th></th>\n",
       "      <th>gerente</th>\n",
       "      <th>acumulado_2022</th>\n",
       "      <th>acumulado_2023</th>\n",
       "      <th>Crecimiento</th>\n",
       "    </tr>\n",
       "  </thead>\n",
       "  <tbody>\n",
       "    <tr>\n",
       "      <th>1</th>\n",
       "      <td>9116</td>\n",
       "      <td>240593.26</td>\n",
       "      <td>308410.70</td>\n",
       "      <td>67817.44</td>\n",
       "    </tr>\n",
       "    <tr>\n",
       "      <th>75</th>\n",
       "      <td>9922</td>\n",
       "      <td>234209.13</td>\n",
       "      <td>272292.36</td>\n",
       "      <td>38083.23</td>\n",
       "    </tr>\n",
       "    <tr>\n",
       "      <th>35</th>\n",
       "      <td>9218</td>\n",
       "      <td>99092.75</td>\n",
       "      <td>134862.52</td>\n",
       "      <td>35769.76</td>\n",
       "    </tr>\n",
       "    <tr>\n",
       "      <th>38</th>\n",
       "      <td>9274</td>\n",
       "      <td>158486.95</td>\n",
       "      <td>190276.23</td>\n",
       "      <td>31789.29</td>\n",
       "    </tr>\n",
       "    <tr>\n",
       "      <th>19</th>\n",
       "      <td>9160</td>\n",
       "      <td>138616.89</td>\n",
       "      <td>168133.90</td>\n",
       "      <td>29517.01</td>\n",
       "    </tr>\n",
       "    <tr>\n",
       "      <th>...</th>\n",
       "      <td>...</td>\n",
       "      <td>...</td>\n",
       "      <td>...</td>\n",
       "      <td>...</td>\n",
       "    </tr>\n",
       "    <tr>\n",
       "      <th>70</th>\n",
       "      <td>9909</td>\n",
       "      <td>62137.05</td>\n",
       "      <td>51351.09</td>\n",
       "      <td>-10785.96</td>\n",
       "    </tr>\n",
       "    <tr>\n",
       "      <th>50</th>\n",
       "      <td>9334</td>\n",
       "      <td>132056.62</td>\n",
       "      <td>120047.58</td>\n",
       "      <td>-12009.04</td>\n",
       "    </tr>\n",
       "    <tr>\n",
       "      <th>46</th>\n",
       "      <td>9310</td>\n",
       "      <td>207948.68</td>\n",
       "      <td>195434.89</td>\n",
       "      <td>-12513.79</td>\n",
       "    </tr>\n",
       "    <tr>\n",
       "      <th>11</th>\n",
       "      <td>9144</td>\n",
       "      <td>203038.00</td>\n",
       "      <td>188870.57</td>\n",
       "      <td>-14167.43</td>\n",
       "    </tr>\n",
       "    <tr>\n",
       "      <th>14</th>\n",
       "      <td>9149</td>\n",
       "      <td>114581.07</td>\n",
       "      <td>98697.03</td>\n",
       "      <td>-15884.04</td>\n",
       "    </tr>\n",
       "  </tbody>\n",
       "</table>\n",
       "<p>76 rows × 4 columns</p>\n",
       "</div>"
      ],
      "text/plain": [
       "    gerente  acumulado_2022  acumulado_2023  Crecimiento\n",
       "1      9116       240593.26       308410.70     67817.44\n",
       "75     9922       234209.13       272292.36     38083.23\n",
       "35     9218        99092.75       134862.52     35769.76\n",
       "38     9274       158486.95       190276.23     31789.29\n",
       "19     9160       138616.89       168133.90     29517.01\n",
       "..      ...             ...             ...          ...\n",
       "70     9909        62137.05        51351.09    -10785.96\n",
       "50     9334       132056.62       120047.58    -12009.04\n",
       "46     9310       207948.68       195434.89    -12513.79\n",
       "11     9144       203038.00       188870.57    -14167.43\n",
       "14     9149       114581.07        98697.03    -15884.04\n",
       "\n",
       "[76 rows x 4 columns]"
      ]
     },
     "execution_count": 8,
     "metadata": {},
     "output_type": "execute_result"
    }
   ],
   "source": [
    "df_temp.sort_values(by='Crecimiento', ascending=False)"
   ]
  },
  {
   "cell_type": "markdown",
   "metadata": {},
   "source": [
    "#### **2. Cuánto fue el crecimiento de la zona Antioquia 1 en GCAR entre 2022 y 2023?**"
   ]
  },
  {
   "cell_type": "markdown",
   "metadata": {},
   "source": [
    "    Inicialmente para resolver esta pregunta identificamos el codigo de la zona Antioquia 1 del dataFrame df_zonas_codigos el cual corresponde a 22110"
   ]
  },
  {
   "cell_type": "code",
   "execution_count": 9,
   "metadata": {},
   "outputs": [
    {
     "data": {
      "text/html": [
       "<div>\n",
       "<style scoped>\n",
       "    .dataframe tbody tr th:only-of-type {\n",
       "        vertical-align: middle;\n",
       "    }\n",
       "\n",
       "    .dataframe tbody tr th {\n",
       "        vertical-align: top;\n",
       "    }\n",
       "\n",
       "    .dataframe thead th {\n",
       "        text-align: right;\n",
       "    }\n",
       "</style>\n",
       "<table border=\"1\" class=\"dataframe\">\n",
       "  <thead>\n",
       "    <tr style=\"text-align: right;\">\n",
       "      <th></th>\n",
       "      <th>zona</th>\n",
       "      <th>Desc</th>\n",
       "    </tr>\n",
       "  </thead>\n",
       "  <tbody>\n",
       "    <tr>\n",
       "      <th>0</th>\n",
       "      <td>22110</td>\n",
       "      <td>VP Empresas zona Antioquia 1</td>\n",
       "    </tr>\n",
       "    <tr>\n",
       "      <th>1</th>\n",
       "      <td>22120</td>\n",
       "      <td>VP Empresas zona Antioquia 2</td>\n",
       "    </tr>\n",
       "    <tr>\n",
       "      <th>2</th>\n",
       "      <td>22210</td>\n",
       "      <td>VP Empresas zona Bogotá 1</td>\n",
       "    </tr>\n",
       "    <tr>\n",
       "      <th>3</th>\n",
       "      <td>22210</td>\n",
       "      <td>VP Empresas zona Bogotá 1</td>\n",
       "    </tr>\n",
       "    <tr>\n",
       "      <th>4</th>\n",
       "      <td>22220</td>\n",
       "      <td>VP Empresas zona Bogotá 2</td>\n",
       "    </tr>\n",
       "    <tr>\n",
       "      <th>5</th>\n",
       "      <td>22230</td>\n",
       "      <td>VP Empresas zona Bogotá 3</td>\n",
       "    </tr>\n",
       "    <tr>\n",
       "      <th>6</th>\n",
       "      <td>22300</td>\n",
       "      <td>VP Empresas zona Centro</td>\n",
       "    </tr>\n",
       "    <tr>\n",
       "      <th>7</th>\n",
       "      <td>22400</td>\n",
       "      <td>VP Empresas zona Sur</td>\n",
       "    </tr>\n",
       "    <tr>\n",
       "      <th>8</th>\n",
       "      <td>22500</td>\n",
       "      <td>VP Empresas zona Caribe</td>\n",
       "    </tr>\n",
       "  </tbody>\n",
       "</table>\n",
       "</div>"
      ],
      "text/plain": [
       "    zona                          Desc\n",
       "0  22110  VP Empresas zona Antioquia 1\n",
       "1  22120  VP Empresas zona Antioquia 2\n",
       "2  22210     VP Empresas zona Bogotá 1\n",
       "3  22210     VP Empresas zona Bogotá 1\n",
       "4  22220     VP Empresas zona Bogotá 2\n",
       "5  22230     VP Empresas zona Bogotá 3\n",
       "6  22300       VP Empresas zona Centro\n",
       "7  22400          VP Empresas zona Sur\n",
       "8  22500       VP Empresas zona Caribe"
      ]
     },
     "execution_count": 9,
     "metadata": {},
     "output_type": "execute_result"
    }
   ],
   "source": [
    "df_zonas_codigos"
   ]
  },
  {
   "cell_type": "markdown",
   "metadata": {},
   "source": [
    "    Buscamos el codigo de GCAR en el dataFrame df_rubros_codigos el cual corresponde a 95999"
   ]
  },
  {
   "cell_type": "code",
   "execution_count": 10,
   "metadata": {},
   "outputs": [
    {
     "data": {
      "text/html": [
       "<div>\n",
       "<style scoped>\n",
       "    .dataframe tbody tr th:only-of-type {\n",
       "        vertical-align: middle;\n",
       "    }\n",
       "\n",
       "    .dataframe tbody tr th {\n",
       "        vertical-align: top;\n",
       "    }\n",
       "\n",
       "    .dataframe thead th {\n",
       "        text-align: right;\n",
       "    }\n",
       "</style>\n",
       "<table border=\"1\" class=\"dataframe\">\n",
       "  <thead>\n",
       "    <tr style=\"text-align: right;\">\n",
       "      <th></th>\n",
       "      <th>descri_rubro</th>\n",
       "      <th>cod_rubro</th>\n",
       "    </tr>\n",
       "  </thead>\n",
       "  <tbody>\n",
       "    <tr>\n",
       "      <th>0</th>\n",
       "      <td>GCAR</td>\n",
       "      <td>95999</td>\n",
       "    </tr>\n",
       "    <tr>\n",
       "      <th>1</th>\n",
       "      <td>Tamaño comercial</td>\n",
       "      <td>96450</td>\n",
       "    </tr>\n",
       "  </tbody>\n",
       "</table>\n",
       "</div>"
      ],
      "text/plain": [
       "       descri_rubro  cod_rubro\n",
       "0              GCAR      95999\n",
       "1  Tamaño comercial      96450"
      ]
     },
     "execution_count": 10,
     "metadata": {},
     "output_type": "execute_result"
    }
   ],
   "source": [
    "df_rubros_codigos"
   ]
  },
  {
   "cell_type": "markdown",
   "metadata": {},
   "source": [
    "    filtramos la zona 22110 y el codigo de rubro 95999 y sumamos los totales y el crecimiento para concluir que el crecimiento de la zona Antioquia 1 en GCAR fue de 993.99"
   ]
  },
  {
   "cell_type": "code",
   "execution_count": 11,
   "metadata": {},
   "outputs": [
    {
     "data": {
      "text/html": [
       "<div>\n",
       "<style scoped>\n",
       "    .dataframe tbody tr th:only-of-type {\n",
       "        vertical-align: middle;\n",
       "    }\n",
       "\n",
       "    .dataframe tbody tr th {\n",
       "        vertical-align: top;\n",
       "    }\n",
       "\n",
       "    .dataframe thead th {\n",
       "        text-align: right;\n",
       "    }\n",
       "</style>\n",
       "<table border=\"1\" class=\"dataframe\">\n",
       "  <thead>\n",
       "    <tr style=\"text-align: right;\">\n",
       "      <th></th>\n",
       "      <th>zona</th>\n",
       "      <th>acumulado_2022</th>\n",
       "      <th>acumulado_2023</th>\n",
       "      <th>Crecimiento</th>\n",
       "    </tr>\n",
       "  </thead>\n",
       "  <tbody>\n",
       "    <tr>\n",
       "      <th>0</th>\n",
       "      <td>22110</td>\n",
       "      <td>58943.38</td>\n",
       "      <td>59937.37</td>\n",
       "      <td>993.99</td>\n",
       "    </tr>\n",
       "  </tbody>\n",
       "</table>\n",
       "</div>"
      ],
      "text/plain": [
       "    zona  acumulado_2022  acumulado_2023  Crecimiento\n",
       "0  22110        58943.38        59937.37       993.99"
      ]
     },
     "execution_count": 11,
     "metadata": {},
     "output_type": "execute_result"
    }
   ],
   "source": [
    "df_temp = df_datos.loc[(df_datos['cod_rubro'] == 95999) & (df_datos['zona'] == 22110)].groupby('zona').agg({'acumulado_2022': 'sum', 'acumulado_2023': 'sum', 'Crecimiento': 'sum'}).reset_index().sort_values(by='Crecimiento', ascending=False)\n",
    "df_temp"
   ]
  },
  {
   "cell_type": "markdown",
   "metadata": {},
   "source": [
    "    Calculamos el porcentaje de crecimiento equivalente a 1.69%"
   ]
  },
  {
   "cell_type": "code",
   "execution_count": 12,
   "metadata": {},
   "outputs": [
    {
     "data": {
      "text/plain": [
       "0   1.69\n",
       "Name: Porcentaje_Crecimiento, dtype: float64"
      ]
     },
     "execution_count": 12,
     "metadata": {},
     "output_type": "execute_result"
    }
   ],
   "source": [
    "df_temp['Porcentaje_Crecimiento'] = (df_temp['Crecimiento'] / df_temp['acumulado_2022']) * 100\n",
    "df_temp['Porcentaje_Crecimiento']"
   ]
  },
  {
   "cell_type": "markdown",
   "metadata": {},
   "source": [
    "#### **3. Cuál fue la zona con menor GCAR en el segundo semestre de 2022 y la de mayor tamaño comercial en todo 2023?**"
   ]
  },
  {
   "cell_type": "markdown",
   "metadata": {},
   "source": [
    "    Iniciamos verificando cual fue la zona con menor GCAR, para esto creamos una nueva columna que nos sume el GCAR para el segundo semestre del 2022"
   ]
  },
  {
   "cell_type": "code",
   "execution_count": 13,
   "metadata": {},
   "outputs": [
    {
     "data": {
      "text/html": [
       "<div>\n",
       "<style scoped>\n",
       "    .dataframe tbody tr th:only-of-type {\n",
       "        vertical-align: middle;\n",
       "    }\n",
       "\n",
       "    .dataframe tbody tr th {\n",
       "        vertical-align: top;\n",
       "    }\n",
       "\n",
       "    .dataframe thead th {\n",
       "        text-align: right;\n",
       "    }\n",
       "</style>\n",
       "<table border=\"1\" class=\"dataframe\">\n",
       "  <thead>\n",
       "    <tr style=\"text-align: right;\">\n",
       "      <th></th>\n",
       "      <th>gerente</th>\n",
       "      <th>zona</th>\n",
       "      <th>cod_rubro</th>\n",
       "      <th>acumulado_2022</th>\n",
       "      <th>acumulado_2023</th>\n",
       "      <th>Crecimiento</th>\n",
       "      <th>semestre2_2022</th>\n",
       "    </tr>\n",
       "  </thead>\n",
       "  <tbody>\n",
       "    <tr>\n",
       "      <th>0</th>\n",
       "      <td>9102</td>\n",
       "      <td>22110</td>\n",
       "      <td>95999</td>\n",
       "      <td>6893.76</td>\n",
       "      <td>7932.29</td>\n",
       "      <td>1038.53</td>\n",
       "      <td>3943.64</td>\n",
       "    </tr>\n",
       "    <tr>\n",
       "      <th>1</th>\n",
       "      <td>9125</td>\n",
       "      <td>22110</td>\n",
       "      <td>95999</td>\n",
       "      <td>7983.04</td>\n",
       "      <td>8027.06</td>\n",
       "      <td>44.02</td>\n",
       "      <td>3858.64</td>\n",
       "    </tr>\n",
       "    <tr>\n",
       "      <th>2</th>\n",
       "      <td>9166</td>\n",
       "      <td>22110</td>\n",
       "      <td>95999</td>\n",
       "      <td>9072.92</td>\n",
       "      <td>7917.03</td>\n",
       "      <td>-1155.89</td>\n",
       "      <td>5023.96</td>\n",
       "    </tr>\n",
       "  </tbody>\n",
       "</table>\n",
       "</div>"
      ],
      "text/plain": [
       "   gerente   zona  cod_rubro  acumulado_2022  acumulado_2023  Crecimiento  \\\n",
       "0     9102  22110      95999         6893.76         7932.29      1038.53   \n",
       "1     9125  22110      95999         7983.04         8027.06        44.02   \n",
       "2     9166  22110      95999         9072.92         7917.03     -1155.89   \n",
       "\n",
       "   semestre2_2022  \n",
       "0         3943.64  \n",
       "1         3858.64  \n",
       "2         5023.96  "
      ]
     },
     "execution_count": 13,
     "metadata": {},
     "output_type": "execute_result"
    }
   ],
   "source": [
    "df_datos['semestre2_2022'] = df_datos.filter(like='2022').iloc[:, 6:12].sum(axis=1)\n",
    "df_datos.loc[: , [ 'gerente', 'zona', 'cod_rubro', 'acumulado_2022', 'acumulado_2023', 'Crecimiento', 'semestre2_2022']].head(3)"
   ]
  },
  {
   "cell_type": "markdown",
   "metadata": {},
   "source": [
    "    Posteriormente filtramos el codigo 95999 correspondiente al GCAR, agrupamos por la zona y ordenamos de menor a mayor para encontrar la zona de menor GCAR, y concluir que la zona de menor crecimiento es la zona 22300 \"VP Empresas zona Centro\""
   ]
  },
  {
   "cell_type": "code",
   "execution_count": 14,
   "metadata": {},
   "outputs": [
    {
     "data": {
      "text/html": [
       "<div>\n",
       "<style scoped>\n",
       "    .dataframe tbody tr th:only-of-type {\n",
       "        vertical-align: middle;\n",
       "    }\n",
       "\n",
       "    .dataframe tbody tr th {\n",
       "        vertical-align: top;\n",
       "    }\n",
       "\n",
       "    .dataframe thead th {\n",
       "        text-align: right;\n",
       "    }\n",
       "</style>\n",
       "<table border=\"1\" class=\"dataframe\">\n",
       "  <thead>\n",
       "    <tr style=\"text-align: right;\">\n",
       "      <th></th>\n",
       "      <th>zona</th>\n",
       "      <th>semestre2_2022</th>\n",
       "    </tr>\n",
       "  </thead>\n",
       "  <tbody>\n",
       "    <tr>\n",
       "      <th>5</th>\n",
       "      <td>22300</td>\n",
       "      <td>31539.28</td>\n",
       "    </tr>\n",
       "    <tr>\n",
       "      <th>0</th>\n",
       "      <td>22110</td>\n",
       "      <td>32105.78</td>\n",
       "    </tr>\n",
       "    <tr>\n",
       "      <th>6</th>\n",
       "      <td>22400</td>\n",
       "      <td>33722.31</td>\n",
       "    </tr>\n",
       "    <tr>\n",
       "      <th>7</th>\n",
       "      <td>22500</td>\n",
       "      <td>35164.94</td>\n",
       "    </tr>\n",
       "    <tr>\n",
       "      <th>1</th>\n",
       "      <td>22120</td>\n",
       "      <td>37358.50</td>\n",
       "    </tr>\n",
       "    <tr>\n",
       "      <th>4</th>\n",
       "      <td>22230</td>\n",
       "      <td>41425.59</td>\n",
       "    </tr>\n",
       "    <tr>\n",
       "      <th>2</th>\n",
       "      <td>22210</td>\n",
       "      <td>47342.14</td>\n",
       "    </tr>\n",
       "    <tr>\n",
       "      <th>3</th>\n",
       "      <td>22220</td>\n",
       "      <td>50881.84</td>\n",
       "    </tr>\n",
       "  </tbody>\n",
       "</table>\n",
       "</div>"
      ],
      "text/plain": [
       "    zona  semestre2_2022\n",
       "5  22300        31539.28\n",
       "0  22110        32105.78\n",
       "6  22400        33722.31\n",
       "7  22500        35164.94\n",
       "1  22120        37358.50\n",
       "4  22230        41425.59\n",
       "2  22210        47342.14\n",
       "3  22220        50881.84"
      ]
     },
     "execution_count": 14,
     "metadata": {},
     "output_type": "execute_result"
    }
   ],
   "source": [
    "df_datos.loc[df_datos['cod_rubro'] == 95999].groupby('zona').agg({'semestre2_2022': 'sum'}).reset_index().sort_values(by='semestre2_2022', ascending=True)"
   ]
  },
  {
   "cell_type": "markdown",
   "metadata": {},
   "source": [
    "    Para encontrar la zona de mayor tamaño comercial en todo 2023 filtramos el codigo 96450, y agrupamos por zona sumando la columna \"acumulado_2023\" que calculamos al comienzo. Se concluye que la zona 22220\t\"VP Empresas zona Bogotá 2\" fue la de mayor tamaño comercial en el 2023."
   ]
  },
  {
   "cell_type": "code",
   "execution_count": 15,
   "metadata": {},
   "outputs": [
    {
     "data": {
      "text/html": [
       "<div>\n",
       "<style scoped>\n",
       "    .dataframe tbody tr th:only-of-type {\n",
       "        vertical-align: middle;\n",
       "    }\n",
       "\n",
       "    .dataframe tbody tr th {\n",
       "        vertical-align: top;\n",
       "    }\n",
       "\n",
       "    .dataframe thead th {\n",
       "        text-align: right;\n",
       "    }\n",
       "</style>\n",
       "<table border=\"1\" class=\"dataframe\">\n",
       "  <thead>\n",
       "    <tr style=\"text-align: right;\">\n",
       "      <th></th>\n",
       "      <th>zona</th>\n",
       "      <th>acumulado_2023</th>\n",
       "    </tr>\n",
       "  </thead>\n",
       "  <tbody>\n",
       "    <tr>\n",
       "      <th>3</th>\n",
       "      <td>22220</td>\n",
       "      <td>1518174.07</td>\n",
       "    </tr>\n",
       "    <tr>\n",
       "      <th>1</th>\n",
       "      <td>22120</td>\n",
       "      <td>1440314.17</td>\n",
       "    </tr>\n",
       "    <tr>\n",
       "      <th>2</th>\n",
       "      <td>22210</td>\n",
       "      <td>1368384.32</td>\n",
       "    </tr>\n",
       "    <tr>\n",
       "      <th>4</th>\n",
       "      <td>22230</td>\n",
       "      <td>1295494.78</td>\n",
       "    </tr>\n",
       "    <tr>\n",
       "      <th>0</th>\n",
       "      <td>22110</td>\n",
       "      <td>1276101.99</td>\n",
       "    </tr>\n",
       "    <tr>\n",
       "      <th>6</th>\n",
       "      <td>22400</td>\n",
       "      <td>1270682.69</td>\n",
       "    </tr>\n",
       "    <tr>\n",
       "      <th>7</th>\n",
       "      <td>22500</td>\n",
       "      <td>1198621.00</td>\n",
       "    </tr>\n",
       "    <tr>\n",
       "      <th>5</th>\n",
       "      <td>22300</td>\n",
       "      <td>1116107.31</td>\n",
       "    </tr>\n",
       "  </tbody>\n",
       "</table>\n",
       "</div>"
      ],
      "text/plain": [
       "    zona  acumulado_2023\n",
       "3  22220      1518174.07\n",
       "1  22120      1440314.17\n",
       "2  22210      1368384.32\n",
       "4  22230      1295494.78\n",
       "0  22110      1276101.99\n",
       "6  22400      1270682.69\n",
       "7  22500      1198621.00\n",
       "5  22300      1116107.31"
      ]
     },
     "execution_count": 15,
     "metadata": {},
     "output_type": "execute_result"
    }
   ],
   "source": [
    "df_datos.loc[df_datos['cod_rubro'] == 96450].groupby('zona').agg({'acumulado_2023': 'sum'}).reset_index().sort_values(by='acumulado_2023', ascending=False)"
   ]
  },
  {
   "cell_type": "markdown",
   "metadata": {},
   "source": [
    "---\n",
    "\n",
    "### **Actividad 2:  En la hoja Retos 2024 asigne los retos en GCAR  para cada gerente a Diciembre de 2024, y responda las siguientes preguntas en el word que anexará:**\n",
    "\n",
    "1. Qué técnicas de modelación considera pueden ser pertinentes para asignar los retos: \n",
    "2. Cuál de ellas utilizó y por qué?\n",
    "3. Qué herramientas conoce y usó para realizar esta prueba?\n",
    "4. Asumiendo que las hojas de Datos, Rubros códigos y Zonas códigos, son tablas en zonas de resultados (tablas sql), diseñe un query que las combine y genere el resultado agregado el nombre de la zona, el rubro y el valor de cierre del Tamaño comercial para la zona del 2023. (Dejar expresadas las sentencias de SQL (pseudocódigo) en la respuesta)\n"
   ]
  },
  {
   "cell_type": "markdown",
   "metadata": {},
   "source": [
    "#### **Asignación en la hoja Retos 2024**"
   ]
  },
  {
   "cell_type": "markdown",
   "metadata": {},
   "source": [
    "    Para comenzar importamos la hoja 'Retos 2024' desde el excel"
   ]
  },
  {
   "cell_type": "code",
   "execution_count": 16,
   "metadata": {},
   "outputs": [
    {
     "data": {
      "text/html": [
       "<div>\n",
       "<style scoped>\n",
       "    .dataframe tbody tr th:only-of-type {\n",
       "        vertical-align: middle;\n",
       "    }\n",
       "\n",
       "    .dataframe tbody tr th {\n",
       "        vertical-align: top;\n",
       "    }\n",
       "\n",
       "    .dataframe thead th {\n",
       "        text-align: right;\n",
       "    }\n",
       "</style>\n",
       "<table border=\"1\" class=\"dataframe\">\n",
       "  <thead>\n",
       "    <tr style=\"text-align: right;\">\n",
       "      <th></th>\n",
       "      <th>zona</th>\n",
       "      <th>gerente</th>\n",
       "      <th>GCAR 2024</th>\n",
       "    </tr>\n",
       "  </thead>\n",
       "  <tbody>\n",
       "    <tr>\n",
       "      <th>0</th>\n",
       "      <td>VP Empresas zona Antioquia 1</td>\n",
       "      <td>9102</td>\n",
       "      <td>NaN</td>\n",
       "    </tr>\n",
       "    <tr>\n",
       "      <th>1</th>\n",
       "      <td>VP Empresas zona Antioquia 1</td>\n",
       "      <td>9125</td>\n",
       "      <td>NaN</td>\n",
       "    </tr>\n",
       "    <tr>\n",
       "      <th>2</th>\n",
       "      <td>VP Empresas zona Antioquia 1</td>\n",
       "      <td>9166</td>\n",
       "      <td>NaN</td>\n",
       "    </tr>\n",
       "    <tr>\n",
       "      <th>3</th>\n",
       "      <td>VP Empresas zona Antioquia 1</td>\n",
       "      <td>9184</td>\n",
       "      <td>NaN</td>\n",
       "    </tr>\n",
       "    <tr>\n",
       "      <th>4</th>\n",
       "      <td>VP Empresas zona Antioquia 1</td>\n",
       "      <td>9198</td>\n",
       "      <td>NaN</td>\n",
       "    </tr>\n",
       "    <tr>\n",
       "      <th>...</th>\n",
       "      <td>...</td>\n",
       "      <td>...</td>\n",
       "      <td>...</td>\n",
       "    </tr>\n",
       "    <tr>\n",
       "      <th>74</th>\n",
       "      <td>VP Empresas zona Sur</td>\n",
       "      <td>9203</td>\n",
       "      <td>NaN</td>\n",
       "    </tr>\n",
       "    <tr>\n",
       "      <th>75</th>\n",
       "      <td>VP Empresas zona Sur</td>\n",
       "      <td>9307</td>\n",
       "      <td>NaN</td>\n",
       "    </tr>\n",
       "    <tr>\n",
       "      <th>76</th>\n",
       "      <td>VP Empresas zona Sur</td>\n",
       "      <td>9310</td>\n",
       "      <td>NaN</td>\n",
       "    </tr>\n",
       "    <tr>\n",
       "      <th>77</th>\n",
       "      <td>VP Empresas zona Sur</td>\n",
       "      <td>9334</td>\n",
       "      <td>NaN</td>\n",
       "    </tr>\n",
       "    <tr>\n",
       "      <th>78</th>\n",
       "      <td>VP Empresas zona Sur</td>\n",
       "      <td>9915</td>\n",
       "      <td>NaN</td>\n",
       "    </tr>\n",
       "  </tbody>\n",
       "</table>\n",
       "<p>79 rows × 3 columns</p>\n",
       "</div>"
      ],
      "text/plain": [
       "                            zona  gerente  GCAR 2024\n",
       "0   VP Empresas zona Antioquia 1     9102        NaN\n",
       "1   VP Empresas zona Antioquia 1     9125        NaN\n",
       "2   VP Empresas zona Antioquia 1     9166        NaN\n",
       "3   VP Empresas zona Antioquia 1     9184        NaN\n",
       "4   VP Empresas zona Antioquia 1     9198        NaN\n",
       "..                           ...      ...        ...\n",
       "74          VP Empresas zona Sur     9203        NaN\n",
       "75          VP Empresas zona Sur     9307        NaN\n",
       "76          VP Empresas zona Sur     9310        NaN\n",
       "77          VP Empresas zona Sur     9334        NaN\n",
       "78          VP Empresas zona Sur     9915        NaN\n",
       "\n",
       "[79 rows x 3 columns]"
      ]
     },
     "execution_count": 16,
     "metadata": {},
     "output_type": "execute_result"
    }
   ],
   "source": [
    "df_retos_2024 = pd.read_excel(r'Prueba Bancolombia 2024 (analitico).xlsx', sheet_name='Retos 2024')\n",
    "df_retos_2024"
   ]
  },
  {
   "cell_type": "markdown",
   "metadata": {},
   "source": [
    "    Creamos un nuevo dataFrame apartir del df_datos, solo con los datos de GCAR realizando el filtro por el codigo de rubro 95999 y solo las columnas necesarias"
   ]
  },
  {
   "cell_type": "code",
   "execution_count": 17,
   "metadata": {},
   "outputs": [
    {
     "data": {
      "text/html": [
       "<div>\n",
       "<style scoped>\n",
       "    .dataframe tbody tr th:only-of-type {\n",
       "        vertical-align: middle;\n",
       "    }\n",
       "\n",
       "    .dataframe tbody tr th {\n",
       "        vertical-align: top;\n",
       "    }\n",
       "\n",
       "    .dataframe thead th {\n",
       "        text-align: right;\n",
       "    }\n",
       "</style>\n",
       "<table border=\"1\" class=\"dataframe\">\n",
       "  <thead>\n",
       "    <tr style=\"text-align: right;\">\n",
       "      <th></th>\n",
       "      <th>zona</th>\n",
       "      <th>gerente</th>\n",
       "      <th>cod_rubro</th>\n",
       "      <th>acumulado_2023</th>\n",
       "    </tr>\n",
       "  </thead>\n",
       "  <tbody>\n",
       "    <tr>\n",
       "      <th>0</th>\n",
       "      <td>22110</td>\n",
       "      <td>9102</td>\n",
       "      <td>95999</td>\n",
       "      <td>7932.29</td>\n",
       "    </tr>\n",
       "    <tr>\n",
       "      <th>1</th>\n",
       "      <td>22110</td>\n",
       "      <td>9125</td>\n",
       "      <td>95999</td>\n",
       "      <td>8027.06</td>\n",
       "    </tr>\n",
       "    <tr>\n",
       "      <th>2</th>\n",
       "      <td>22110</td>\n",
       "      <td>9166</td>\n",
       "      <td>95999</td>\n",
       "      <td>7917.03</td>\n",
       "    </tr>\n",
       "    <tr>\n",
       "      <th>3</th>\n",
       "      <td>22110</td>\n",
       "      <td>9184</td>\n",
       "      <td>95999</td>\n",
       "      <td>8752.69</td>\n",
       "    </tr>\n",
       "    <tr>\n",
       "      <th>4</th>\n",
       "      <td>22110</td>\n",
       "      <td>9198</td>\n",
       "      <td>95999</td>\n",
       "      <td>6980.49</td>\n",
       "    </tr>\n",
       "    <tr>\n",
       "      <th>...</th>\n",
       "      <td>...</td>\n",
       "      <td>...</td>\n",
       "      <td>...</td>\n",
       "      <td>...</td>\n",
       "    </tr>\n",
       "    <tr>\n",
       "      <th>71</th>\n",
       "      <td>22500</td>\n",
       "      <td>9179</td>\n",
       "      <td>95999</td>\n",
       "      <td>7952.17</td>\n",
       "    </tr>\n",
       "    <tr>\n",
       "      <th>72</th>\n",
       "      <td>22500</td>\n",
       "      <td>9410</td>\n",
       "      <td>95999</td>\n",
       "      <td>6145.22</td>\n",
       "    </tr>\n",
       "    <tr>\n",
       "      <th>73</th>\n",
       "      <td>22500</td>\n",
       "      <td>9411</td>\n",
       "      <td>95999</td>\n",
       "      <td>8266.54</td>\n",
       "    </tr>\n",
       "    <tr>\n",
       "      <th>74</th>\n",
       "      <td>22500</td>\n",
       "      <td>9901</td>\n",
       "      <td>95999</td>\n",
       "      <td>5567.41</td>\n",
       "    </tr>\n",
       "    <tr>\n",
       "      <th>75</th>\n",
       "      <td>22500</td>\n",
       "      <td>9903</td>\n",
       "      <td>95999</td>\n",
       "      <td>8080.75</td>\n",
       "    </tr>\n",
       "  </tbody>\n",
       "</table>\n",
       "<p>76 rows × 4 columns</p>\n",
       "</div>"
      ],
      "text/plain": [
       "     zona  gerente  cod_rubro  acumulado_2023\n",
       "0   22110     9102      95999         7932.29\n",
       "1   22110     9125      95999         8027.06\n",
       "2   22110     9166      95999         7917.03\n",
       "3   22110     9184      95999         8752.69\n",
       "4   22110     9198      95999         6980.49\n",
       "..    ...      ...        ...             ...\n",
       "71  22500     9179      95999         7952.17\n",
       "72  22500     9410      95999         6145.22\n",
       "73  22500     9411      95999         8266.54\n",
       "74  22500     9901      95999         5567.41\n",
       "75  22500     9903      95999         8080.75\n",
       "\n",
       "[76 rows x 4 columns]"
      ]
     },
     "execution_count": 17,
     "metadata": {},
     "output_type": "execute_result"
    }
   ],
   "source": [
    "df_datos_GCAR = df_datos.loc[df_datos['cod_rubro'] == 95999].copy()\n",
    "df_datos_GCAR = df_datos_GCAR.loc[: , ['zona', 'gerente', 'cod_rubro', 'acumulado_2023']]\n",
    "df_datos_GCAR"
   ]
  },
  {
   "cell_type": "markdown",
   "metadata": {},
   "source": [
    "    Creamos una columna con el reto para el 2024, siendo igual al acumulado del 2023 en GCAR + un 15%"
   ]
  },
  {
   "cell_type": "code",
   "execution_count": 18,
   "metadata": {},
   "outputs": [
    {
     "data": {
      "text/html": [
       "<div>\n",
       "<style scoped>\n",
       "    .dataframe tbody tr th:only-of-type {\n",
       "        vertical-align: middle;\n",
       "    }\n",
       "\n",
       "    .dataframe tbody tr th {\n",
       "        vertical-align: top;\n",
       "    }\n",
       "\n",
       "    .dataframe thead th {\n",
       "        text-align: right;\n",
       "    }\n",
       "</style>\n",
       "<table border=\"1\" class=\"dataframe\">\n",
       "  <thead>\n",
       "    <tr style=\"text-align: right;\">\n",
       "      <th></th>\n",
       "      <th>zona</th>\n",
       "      <th>gerente</th>\n",
       "      <th>cod_rubro</th>\n",
       "      <th>acumulado_2023</th>\n",
       "      <th>GCAR 2024</th>\n",
       "    </tr>\n",
       "  </thead>\n",
       "  <tbody>\n",
       "    <tr>\n",
       "      <th>0</th>\n",
       "      <td>22110</td>\n",
       "      <td>9102</td>\n",
       "      <td>95999</td>\n",
       "      <td>7932.29</td>\n",
       "      <td>9122.13</td>\n",
       "    </tr>\n",
       "    <tr>\n",
       "      <th>1</th>\n",
       "      <td>22110</td>\n",
       "      <td>9125</td>\n",
       "      <td>95999</td>\n",
       "      <td>8027.06</td>\n",
       "      <td>9231.12</td>\n",
       "    </tr>\n",
       "    <tr>\n",
       "      <th>2</th>\n",
       "      <td>22110</td>\n",
       "      <td>9166</td>\n",
       "      <td>95999</td>\n",
       "      <td>7917.03</td>\n",
       "      <td>9104.59</td>\n",
       "    </tr>\n",
       "    <tr>\n",
       "      <th>3</th>\n",
       "      <td>22110</td>\n",
       "      <td>9184</td>\n",
       "      <td>95999</td>\n",
       "      <td>8752.69</td>\n",
       "      <td>10065.59</td>\n",
       "    </tr>\n",
       "    <tr>\n",
       "      <th>4</th>\n",
       "      <td>22110</td>\n",
       "      <td>9198</td>\n",
       "      <td>95999</td>\n",
       "      <td>6980.49</td>\n",
       "      <td>8027.56</td>\n",
       "    </tr>\n",
       "    <tr>\n",
       "      <th>...</th>\n",
       "      <td>...</td>\n",
       "      <td>...</td>\n",
       "      <td>...</td>\n",
       "      <td>...</td>\n",
       "      <td>...</td>\n",
       "    </tr>\n",
       "    <tr>\n",
       "      <th>71</th>\n",
       "      <td>22500</td>\n",
       "      <td>9179</td>\n",
       "      <td>95999</td>\n",
       "      <td>7952.17</td>\n",
       "      <td>9145.00</td>\n",
       "    </tr>\n",
       "    <tr>\n",
       "      <th>72</th>\n",
       "      <td>22500</td>\n",
       "      <td>9410</td>\n",
       "      <td>95999</td>\n",
       "      <td>6145.22</td>\n",
       "      <td>7067.01</td>\n",
       "    </tr>\n",
       "    <tr>\n",
       "      <th>73</th>\n",
       "      <td>22500</td>\n",
       "      <td>9411</td>\n",
       "      <td>95999</td>\n",
       "      <td>8266.54</td>\n",
       "      <td>9506.52</td>\n",
       "    </tr>\n",
       "    <tr>\n",
       "      <th>74</th>\n",
       "      <td>22500</td>\n",
       "      <td>9901</td>\n",
       "      <td>95999</td>\n",
       "      <td>5567.41</td>\n",
       "      <td>6402.52</td>\n",
       "    </tr>\n",
       "    <tr>\n",
       "      <th>75</th>\n",
       "      <td>22500</td>\n",
       "      <td>9903</td>\n",
       "      <td>95999</td>\n",
       "      <td>8080.75</td>\n",
       "      <td>9292.86</td>\n",
       "    </tr>\n",
       "  </tbody>\n",
       "</table>\n",
       "<p>76 rows × 5 columns</p>\n",
       "</div>"
      ],
      "text/plain": [
       "     zona  gerente  cod_rubro  acumulado_2023  GCAR 2024\n",
       "0   22110     9102      95999         7932.29    9122.13\n",
       "1   22110     9125      95999         8027.06    9231.12\n",
       "2   22110     9166      95999         7917.03    9104.59\n",
       "3   22110     9184      95999         8752.69   10065.59\n",
       "4   22110     9198      95999         6980.49    8027.56\n",
       "..    ...      ...        ...             ...        ...\n",
       "71  22500     9179      95999         7952.17    9145.00\n",
       "72  22500     9410      95999         6145.22    7067.01\n",
       "73  22500     9411      95999         8266.54    9506.52\n",
       "74  22500     9901      95999         5567.41    6402.52\n",
       "75  22500     9903      95999         8080.75    9292.86\n",
       "\n",
       "[76 rows x 5 columns]"
      ]
     },
     "execution_count": 18,
     "metadata": {},
     "output_type": "execute_result"
    }
   ],
   "source": [
    "df_datos_GCAR['GCAR 2024'] = df_datos_GCAR['acumulado_2023'] * 1.15\n",
    "df_datos_GCAR"
   ]
  },
  {
   "cell_type": "markdown",
   "metadata": {},
   "source": [
    "    creamos una columna con la llave de cruce para unir los datos de los retos 2024 con los datos de GCAR 2024, la llave es la concatenación del código de la zona y el gerente"
   ]
  },
  {
   "cell_type": "code",
   "execution_count": 19,
   "metadata": {},
   "outputs": [
    {
     "data": {
      "text/html": [
       "<div>\n",
       "<style scoped>\n",
       "    .dataframe tbody tr th:only-of-type {\n",
       "        vertical-align: middle;\n",
       "    }\n",
       "\n",
       "    .dataframe tbody tr th {\n",
       "        vertical-align: top;\n",
       "    }\n",
       "\n",
       "    .dataframe thead th {\n",
       "        text-align: right;\n",
       "    }\n",
       "</style>\n",
       "<table border=\"1\" class=\"dataframe\">\n",
       "  <thead>\n",
       "    <tr style=\"text-align: right;\">\n",
       "      <th></th>\n",
       "      <th>zona</th>\n",
       "      <th>gerente</th>\n",
       "      <th>cod_rubro</th>\n",
       "      <th>acumulado_2023</th>\n",
       "      <th>GCAR 2024</th>\n",
       "      <th>llave</th>\n",
       "    </tr>\n",
       "  </thead>\n",
       "  <tbody>\n",
       "    <tr>\n",
       "      <th>0</th>\n",
       "      <td>22110</td>\n",
       "      <td>9102</td>\n",
       "      <td>95999</td>\n",
       "      <td>7932.29</td>\n",
       "      <td>9122.13</td>\n",
       "      <td>221109102</td>\n",
       "    </tr>\n",
       "    <tr>\n",
       "      <th>1</th>\n",
       "      <td>22110</td>\n",
       "      <td>9125</td>\n",
       "      <td>95999</td>\n",
       "      <td>8027.06</td>\n",
       "      <td>9231.12</td>\n",
       "      <td>221109125</td>\n",
       "    </tr>\n",
       "    <tr>\n",
       "      <th>2</th>\n",
       "      <td>22110</td>\n",
       "      <td>9166</td>\n",
       "      <td>95999</td>\n",
       "      <td>7917.03</td>\n",
       "      <td>9104.59</td>\n",
       "      <td>221109166</td>\n",
       "    </tr>\n",
       "    <tr>\n",
       "      <th>3</th>\n",
       "      <td>22110</td>\n",
       "      <td>9184</td>\n",
       "      <td>95999</td>\n",
       "      <td>8752.69</td>\n",
       "      <td>10065.59</td>\n",
       "      <td>221109184</td>\n",
       "    </tr>\n",
       "    <tr>\n",
       "      <th>4</th>\n",
       "      <td>22110</td>\n",
       "      <td>9198</td>\n",
       "      <td>95999</td>\n",
       "      <td>6980.49</td>\n",
       "      <td>8027.56</td>\n",
       "      <td>221109198</td>\n",
       "    </tr>\n",
       "    <tr>\n",
       "      <th>...</th>\n",
       "      <td>...</td>\n",
       "      <td>...</td>\n",
       "      <td>...</td>\n",
       "      <td>...</td>\n",
       "      <td>...</td>\n",
       "      <td>...</td>\n",
       "    </tr>\n",
       "    <tr>\n",
       "      <th>71</th>\n",
       "      <td>22500</td>\n",
       "      <td>9179</td>\n",
       "      <td>95999</td>\n",
       "      <td>7952.17</td>\n",
       "      <td>9145.00</td>\n",
       "      <td>225009179</td>\n",
       "    </tr>\n",
       "    <tr>\n",
       "      <th>72</th>\n",
       "      <td>22500</td>\n",
       "      <td>9410</td>\n",
       "      <td>95999</td>\n",
       "      <td>6145.22</td>\n",
       "      <td>7067.01</td>\n",
       "      <td>225009410</td>\n",
       "    </tr>\n",
       "    <tr>\n",
       "      <th>73</th>\n",
       "      <td>22500</td>\n",
       "      <td>9411</td>\n",
       "      <td>95999</td>\n",
       "      <td>8266.54</td>\n",
       "      <td>9506.52</td>\n",
       "      <td>225009411</td>\n",
       "    </tr>\n",
       "    <tr>\n",
       "      <th>74</th>\n",
       "      <td>22500</td>\n",
       "      <td>9901</td>\n",
       "      <td>95999</td>\n",
       "      <td>5567.41</td>\n",
       "      <td>6402.52</td>\n",
       "      <td>225009901</td>\n",
       "    </tr>\n",
       "    <tr>\n",
       "      <th>75</th>\n",
       "      <td>22500</td>\n",
       "      <td>9903</td>\n",
       "      <td>95999</td>\n",
       "      <td>8080.75</td>\n",
       "      <td>9292.86</td>\n",
       "      <td>225009903</td>\n",
       "    </tr>\n",
       "  </tbody>\n",
       "</table>\n",
       "<p>76 rows × 6 columns</p>\n",
       "</div>"
      ],
      "text/plain": [
       "     zona  gerente  cod_rubro  acumulado_2023  GCAR 2024      llave\n",
       "0   22110     9102      95999         7932.29    9122.13  221109102\n",
       "1   22110     9125      95999         8027.06    9231.12  221109125\n",
       "2   22110     9166      95999         7917.03    9104.59  221109166\n",
       "3   22110     9184      95999         8752.69   10065.59  221109184\n",
       "4   22110     9198      95999         6980.49    8027.56  221109198\n",
       "..    ...      ...        ...             ...        ...        ...\n",
       "71  22500     9179      95999         7952.17    9145.00  225009179\n",
       "72  22500     9410      95999         6145.22    7067.01  225009410\n",
       "73  22500     9411      95999         8266.54    9506.52  225009411\n",
       "74  22500     9901      95999         5567.41    6402.52  225009901\n",
       "75  22500     9903      95999         8080.75    9292.86  225009903\n",
       "\n",
       "[76 rows x 6 columns]"
      ]
     },
     "execution_count": 19,
     "metadata": {},
     "output_type": "execute_result"
    }
   ],
   "source": [
    "df_datos_GCAR['llave'] = df_datos_GCAR['zona'].astype(str) + df_datos_GCAR['gerente'].astype(str)\n",
    "df_datos_GCAR"
   ]
  },
  {
   "cell_type": "markdown",
   "metadata": {},
   "source": [
    "    Para crear la misma llave en el dataFrame df_retos_2024 primero debemos obtener el código de la zona"
   ]
  },
  {
   "cell_type": "code",
   "execution_count": 20,
   "metadata": {},
   "outputs": [
    {
     "data": {
      "text/html": [
       "<div>\n",
       "<style scoped>\n",
       "    .dataframe tbody tr th:only-of-type {\n",
       "        vertical-align: middle;\n",
       "    }\n",
       "\n",
       "    .dataframe tbody tr th {\n",
       "        vertical-align: top;\n",
       "    }\n",
       "\n",
       "    .dataframe thead th {\n",
       "        text-align: right;\n",
       "    }\n",
       "</style>\n",
       "<table border=\"1\" class=\"dataframe\">\n",
       "  <thead>\n",
       "    <tr style=\"text-align: right;\">\n",
       "      <th></th>\n",
       "      <th>zona</th>\n",
       "      <th>Desc</th>\n",
       "    </tr>\n",
       "  </thead>\n",
       "  <tbody>\n",
       "    <tr>\n",
       "      <th>0</th>\n",
       "      <td>22110</td>\n",
       "      <td>VP Empresas zona Antioquia 1</td>\n",
       "    </tr>\n",
       "    <tr>\n",
       "      <th>1</th>\n",
       "      <td>22120</td>\n",
       "      <td>VP Empresas zona Antioquia 2</td>\n",
       "    </tr>\n",
       "    <tr>\n",
       "      <th>2</th>\n",
       "      <td>22210</td>\n",
       "      <td>VP Empresas zona Bogotá 1</td>\n",
       "    </tr>\n",
       "    <tr>\n",
       "      <th>3</th>\n",
       "      <td>22210</td>\n",
       "      <td>VP Empresas zona Bogotá 1</td>\n",
       "    </tr>\n",
       "    <tr>\n",
       "      <th>4</th>\n",
       "      <td>22220</td>\n",
       "      <td>VP Empresas zona Bogotá 2</td>\n",
       "    </tr>\n",
       "    <tr>\n",
       "      <th>5</th>\n",
       "      <td>22230</td>\n",
       "      <td>VP Empresas zona Bogotá 3</td>\n",
       "    </tr>\n",
       "    <tr>\n",
       "      <th>6</th>\n",
       "      <td>22300</td>\n",
       "      <td>VP Empresas zona Centro</td>\n",
       "    </tr>\n",
       "    <tr>\n",
       "      <th>7</th>\n",
       "      <td>22400</td>\n",
       "      <td>VP Empresas zona Sur</td>\n",
       "    </tr>\n",
       "    <tr>\n",
       "      <th>8</th>\n",
       "      <td>22500</td>\n",
       "      <td>VP Empresas zona Caribe</td>\n",
       "    </tr>\n",
       "  </tbody>\n",
       "</table>\n",
       "</div>"
      ],
      "text/plain": [
       "    zona                          Desc\n",
       "0  22110  VP Empresas zona Antioquia 1\n",
       "1  22120  VP Empresas zona Antioquia 2\n",
       "2  22210     VP Empresas zona Bogotá 1\n",
       "3  22210     VP Empresas zona Bogotá 1\n",
       "4  22220     VP Empresas zona Bogotá 2\n",
       "5  22230     VP Empresas zona Bogotá 3\n",
       "6  22300       VP Empresas zona Centro\n",
       "7  22400          VP Empresas zona Sur\n",
       "8  22500       VP Empresas zona Caribe"
      ]
     },
     "execution_count": 20,
     "metadata": {},
     "output_type": "execute_result"
    }
   ],
   "source": [
    "df_zonas_codigos"
   ]
  },
  {
   "cell_type": "markdown",
   "metadata": {},
   "source": [
    "    Para esto realizamos un Left Join con el campo descripción de la zona del df_zonas_codigos"
   ]
  },
  {
   "cell_type": "code",
   "execution_count": 21,
   "metadata": {},
   "outputs": [
    {
     "data": {
      "text/html": [
       "<div>\n",
       "<style scoped>\n",
       "    .dataframe tbody tr th:only-of-type {\n",
       "        vertical-align: middle;\n",
       "    }\n",
       "\n",
       "    .dataframe tbody tr th {\n",
       "        vertical-align: top;\n",
       "    }\n",
       "\n",
       "    .dataframe thead th {\n",
       "        text-align: right;\n",
       "    }\n",
       "</style>\n",
       "<table border=\"1\" class=\"dataframe\">\n",
       "  <thead>\n",
       "    <tr style=\"text-align: right;\">\n",
       "      <th></th>\n",
       "      <th>Zona</th>\n",
       "      <th>Desc</th>\n",
       "      <th>gerente</th>\n",
       "      <th>GCAR 2024</th>\n",
       "    </tr>\n",
       "  </thead>\n",
       "  <tbody>\n",
       "    <tr>\n",
       "      <th>0</th>\n",
       "      <td>22110</td>\n",
       "      <td>VP Empresas zona Antioquia 1</td>\n",
       "      <td>9102</td>\n",
       "      <td>NaN</td>\n",
       "    </tr>\n",
       "    <tr>\n",
       "      <th>1</th>\n",
       "      <td>22110</td>\n",
       "      <td>VP Empresas zona Antioquia 1</td>\n",
       "      <td>9125</td>\n",
       "      <td>NaN</td>\n",
       "    </tr>\n",
       "    <tr>\n",
       "      <th>2</th>\n",
       "      <td>22110</td>\n",
       "      <td>VP Empresas zona Antioquia 1</td>\n",
       "      <td>9166</td>\n",
       "      <td>NaN</td>\n",
       "    </tr>\n",
       "    <tr>\n",
       "      <th>3</th>\n",
       "      <td>22110</td>\n",
       "      <td>VP Empresas zona Antioquia 1</td>\n",
       "      <td>9184</td>\n",
       "      <td>NaN</td>\n",
       "    </tr>\n",
       "    <tr>\n",
       "      <th>4</th>\n",
       "      <td>22110</td>\n",
       "      <td>VP Empresas zona Antioquia 1</td>\n",
       "      <td>9198</td>\n",
       "      <td>NaN</td>\n",
       "    </tr>\n",
       "    <tr>\n",
       "      <th>...</th>\n",
       "      <td>...</td>\n",
       "      <td>...</td>\n",
       "      <td>...</td>\n",
       "      <td>...</td>\n",
       "    </tr>\n",
       "    <tr>\n",
       "      <th>86</th>\n",
       "      <td>22400</td>\n",
       "      <td>VP Empresas zona Sur</td>\n",
       "      <td>9203</td>\n",
       "      <td>NaN</td>\n",
       "    </tr>\n",
       "    <tr>\n",
       "      <th>87</th>\n",
       "      <td>22400</td>\n",
       "      <td>VP Empresas zona Sur</td>\n",
       "      <td>9307</td>\n",
       "      <td>NaN</td>\n",
       "    </tr>\n",
       "    <tr>\n",
       "      <th>88</th>\n",
       "      <td>22400</td>\n",
       "      <td>VP Empresas zona Sur</td>\n",
       "      <td>9310</td>\n",
       "      <td>NaN</td>\n",
       "    </tr>\n",
       "    <tr>\n",
       "      <th>89</th>\n",
       "      <td>22400</td>\n",
       "      <td>VP Empresas zona Sur</td>\n",
       "      <td>9334</td>\n",
       "      <td>NaN</td>\n",
       "    </tr>\n",
       "    <tr>\n",
       "      <th>90</th>\n",
       "      <td>22400</td>\n",
       "      <td>VP Empresas zona Sur</td>\n",
       "      <td>9915</td>\n",
       "      <td>NaN</td>\n",
       "    </tr>\n",
       "  </tbody>\n",
       "</table>\n",
       "<p>79 rows × 4 columns</p>\n",
       "</div>"
      ],
      "text/plain": [
       "     Zona                          Desc  gerente  GCAR 2024\n",
       "0   22110  VP Empresas zona Antioquia 1     9102        NaN\n",
       "1   22110  VP Empresas zona Antioquia 1     9125        NaN\n",
       "2   22110  VP Empresas zona Antioquia 1     9166        NaN\n",
       "3   22110  VP Empresas zona Antioquia 1     9184        NaN\n",
       "4   22110  VP Empresas zona Antioquia 1     9198        NaN\n",
       "..    ...                           ...      ...        ...\n",
       "86  22400          VP Empresas zona Sur     9203        NaN\n",
       "87  22400          VP Empresas zona Sur     9307        NaN\n",
       "88  22400          VP Empresas zona Sur     9310        NaN\n",
       "89  22400          VP Empresas zona Sur     9334        NaN\n",
       "90  22400          VP Empresas zona Sur     9915        NaN\n",
       "\n",
       "[79 rows x 4 columns]"
      ]
     },
     "execution_count": 21,
     "metadata": {},
     "output_type": "execute_result"
    }
   ],
   "source": [
    "df_temp = pd.merge(df_retos_2024, df_zonas_codigos, how='left', left_on='zona', right_on='Desc')\n",
    "df_temp.rename(columns={'zona_y': 'Zona'}, inplace=True)\n",
    "df_temp = df_temp.loc[: , ['Zona', 'Desc', 'gerente', 'GCAR 2024']].drop_duplicates(subset=['Zona', 'Desc', 'gerente'])\n",
    "df_temp"
   ]
  },
  {
   "cell_type": "markdown",
   "metadata": {},
   "source": [
    "    Ahora que tenemos el código de la zona creamos la llave concatenando el codigo con el gerente"
   ]
  },
  {
   "cell_type": "code",
   "execution_count": 22,
   "metadata": {},
   "outputs": [
    {
     "data": {
      "text/html": [
       "<div>\n",
       "<style scoped>\n",
       "    .dataframe tbody tr th:only-of-type {\n",
       "        vertical-align: middle;\n",
       "    }\n",
       "\n",
       "    .dataframe tbody tr th {\n",
       "        vertical-align: top;\n",
       "    }\n",
       "\n",
       "    .dataframe thead th {\n",
       "        text-align: right;\n",
       "    }\n",
       "</style>\n",
       "<table border=\"1\" class=\"dataframe\">\n",
       "  <thead>\n",
       "    <tr style=\"text-align: right;\">\n",
       "      <th></th>\n",
       "      <th>Zona</th>\n",
       "      <th>Desc</th>\n",
       "      <th>gerente</th>\n",
       "      <th>GCAR 2024</th>\n",
       "      <th>llave</th>\n",
       "    </tr>\n",
       "  </thead>\n",
       "  <tbody>\n",
       "    <tr>\n",
       "      <th>0</th>\n",
       "      <td>22110</td>\n",
       "      <td>VP Empresas zona Antioquia 1</td>\n",
       "      <td>9102</td>\n",
       "      <td>NaN</td>\n",
       "      <td>221109102</td>\n",
       "    </tr>\n",
       "    <tr>\n",
       "      <th>1</th>\n",
       "      <td>22110</td>\n",
       "      <td>VP Empresas zona Antioquia 1</td>\n",
       "      <td>9125</td>\n",
       "      <td>NaN</td>\n",
       "      <td>221109125</td>\n",
       "    </tr>\n",
       "    <tr>\n",
       "      <th>2</th>\n",
       "      <td>22110</td>\n",
       "      <td>VP Empresas zona Antioquia 1</td>\n",
       "      <td>9166</td>\n",
       "      <td>NaN</td>\n",
       "      <td>221109166</td>\n",
       "    </tr>\n",
       "    <tr>\n",
       "      <th>3</th>\n",
       "      <td>22110</td>\n",
       "      <td>VP Empresas zona Antioquia 1</td>\n",
       "      <td>9184</td>\n",
       "      <td>NaN</td>\n",
       "      <td>221109184</td>\n",
       "    </tr>\n",
       "    <tr>\n",
       "      <th>4</th>\n",
       "      <td>22110</td>\n",
       "      <td>VP Empresas zona Antioquia 1</td>\n",
       "      <td>9198</td>\n",
       "      <td>NaN</td>\n",
       "      <td>221109198</td>\n",
       "    </tr>\n",
       "    <tr>\n",
       "      <th>...</th>\n",
       "      <td>...</td>\n",
       "      <td>...</td>\n",
       "      <td>...</td>\n",
       "      <td>...</td>\n",
       "      <td>...</td>\n",
       "    </tr>\n",
       "    <tr>\n",
       "      <th>86</th>\n",
       "      <td>22400</td>\n",
       "      <td>VP Empresas zona Sur</td>\n",
       "      <td>9203</td>\n",
       "      <td>NaN</td>\n",
       "      <td>224009203</td>\n",
       "    </tr>\n",
       "    <tr>\n",
       "      <th>87</th>\n",
       "      <td>22400</td>\n",
       "      <td>VP Empresas zona Sur</td>\n",
       "      <td>9307</td>\n",
       "      <td>NaN</td>\n",
       "      <td>224009307</td>\n",
       "    </tr>\n",
       "    <tr>\n",
       "      <th>88</th>\n",
       "      <td>22400</td>\n",
       "      <td>VP Empresas zona Sur</td>\n",
       "      <td>9310</td>\n",
       "      <td>NaN</td>\n",
       "      <td>224009310</td>\n",
       "    </tr>\n",
       "    <tr>\n",
       "      <th>89</th>\n",
       "      <td>22400</td>\n",
       "      <td>VP Empresas zona Sur</td>\n",
       "      <td>9334</td>\n",
       "      <td>NaN</td>\n",
       "      <td>224009334</td>\n",
       "    </tr>\n",
       "    <tr>\n",
       "      <th>90</th>\n",
       "      <td>22400</td>\n",
       "      <td>VP Empresas zona Sur</td>\n",
       "      <td>9915</td>\n",
       "      <td>NaN</td>\n",
       "      <td>224009915</td>\n",
       "    </tr>\n",
       "  </tbody>\n",
       "</table>\n",
       "<p>79 rows × 5 columns</p>\n",
       "</div>"
      ],
      "text/plain": [
       "     Zona                          Desc  gerente  GCAR 2024      llave\n",
       "0   22110  VP Empresas zona Antioquia 1     9102        NaN  221109102\n",
       "1   22110  VP Empresas zona Antioquia 1     9125        NaN  221109125\n",
       "2   22110  VP Empresas zona Antioquia 1     9166        NaN  221109166\n",
       "3   22110  VP Empresas zona Antioquia 1     9184        NaN  221109184\n",
       "4   22110  VP Empresas zona Antioquia 1     9198        NaN  221109198\n",
       "..    ...                           ...      ...        ...        ...\n",
       "86  22400          VP Empresas zona Sur     9203        NaN  224009203\n",
       "87  22400          VP Empresas zona Sur     9307        NaN  224009307\n",
       "88  22400          VP Empresas zona Sur     9310        NaN  224009310\n",
       "89  22400          VP Empresas zona Sur     9334        NaN  224009334\n",
       "90  22400          VP Empresas zona Sur     9915        NaN  224009915\n",
       "\n",
       "[79 rows x 5 columns]"
      ]
     },
     "execution_count": 22,
     "metadata": {},
     "output_type": "execute_result"
    }
   ],
   "source": [
    "df_temp['llave'] = df_temp['Zona'].astype(str) + df_temp['gerente'].astype(str)\n",
    "df_temp"
   ]
  },
  {
   "cell_type": "markdown",
   "metadata": {},
   "source": [
    "    Realizamos un left Join entre el DataFrame df_datos_GCAR y el df_temp, para rellenar el reto GCAR 2024 para cada gerente"
   ]
  },
  {
   "cell_type": "code",
   "execution_count": 23,
   "metadata": {},
   "outputs": [
    {
     "data": {
      "text/html": [
       "<div>\n",
       "<style scoped>\n",
       "    .dataframe tbody tr th:only-of-type {\n",
       "        vertical-align: middle;\n",
       "    }\n",
       "\n",
       "    .dataframe tbody tr th {\n",
       "        vertical-align: top;\n",
       "    }\n",
       "\n",
       "    .dataframe thead th {\n",
       "        text-align: right;\n",
       "    }\n",
       "</style>\n",
       "<table border=\"1\" class=\"dataframe\">\n",
       "  <thead>\n",
       "    <tr style=\"text-align: right;\">\n",
       "      <th></th>\n",
       "      <th>Desc</th>\n",
       "      <th>gerente</th>\n",
       "      <th>GCAR 2024</th>\n",
       "    </tr>\n",
       "  </thead>\n",
       "  <tbody>\n",
       "    <tr>\n",
       "      <th>0</th>\n",
       "      <td>VP Empresas zona Antioquia 1</td>\n",
       "      <td>9102</td>\n",
       "      <td>9122.13</td>\n",
       "    </tr>\n",
       "    <tr>\n",
       "      <th>1</th>\n",
       "      <td>VP Empresas zona Antioquia 1</td>\n",
       "      <td>9125</td>\n",
       "      <td>9231.12</td>\n",
       "    </tr>\n",
       "    <tr>\n",
       "      <th>2</th>\n",
       "      <td>VP Empresas zona Antioquia 1</td>\n",
       "      <td>9166</td>\n",
       "      <td>9104.59</td>\n",
       "    </tr>\n",
       "    <tr>\n",
       "      <th>3</th>\n",
       "      <td>VP Empresas zona Antioquia 1</td>\n",
       "      <td>9184</td>\n",
       "      <td>10065.59</td>\n",
       "    </tr>\n",
       "    <tr>\n",
       "      <th>4</th>\n",
       "      <td>VP Empresas zona Antioquia 1</td>\n",
       "      <td>9198</td>\n",
       "      <td>8027.56</td>\n",
       "    </tr>\n",
       "    <tr>\n",
       "      <th>...</th>\n",
       "      <td>...</td>\n",
       "      <td>...</td>\n",
       "      <td>...</td>\n",
       "    </tr>\n",
       "    <tr>\n",
       "      <th>74</th>\n",
       "      <td>VP Empresas zona Sur</td>\n",
       "      <td>9203</td>\n",
       "      <td>6976.83</td>\n",
       "    </tr>\n",
       "    <tr>\n",
       "      <th>75</th>\n",
       "      <td>VP Empresas zona Sur</td>\n",
       "      <td>9307</td>\n",
       "      <td>11140.37</td>\n",
       "    </tr>\n",
       "    <tr>\n",
       "      <th>76</th>\n",
       "      <td>VP Empresas zona Sur</td>\n",
       "      <td>9310</td>\n",
       "      <td>8254.52</td>\n",
       "    </tr>\n",
       "    <tr>\n",
       "      <th>77</th>\n",
       "      <td>VP Empresas zona Sur</td>\n",
       "      <td>9334</td>\n",
       "      <td>7068.49</td>\n",
       "    </tr>\n",
       "    <tr>\n",
       "      <th>78</th>\n",
       "      <td>VP Empresas zona Sur</td>\n",
       "      <td>9915</td>\n",
       "      <td>5326.18</td>\n",
       "    </tr>\n",
       "  </tbody>\n",
       "</table>\n",
       "<p>79 rows × 3 columns</p>\n",
       "</div>"
      ],
      "text/plain": [
       "                            Desc  gerente  GCAR 2024\n",
       "0   VP Empresas zona Antioquia 1     9102    9122.13\n",
       "1   VP Empresas zona Antioquia 1     9125    9231.12\n",
       "2   VP Empresas zona Antioquia 1     9166    9104.59\n",
       "3   VP Empresas zona Antioquia 1     9184   10065.59\n",
       "4   VP Empresas zona Antioquia 1     9198    8027.56\n",
       "..                           ...      ...        ...\n",
       "74          VP Empresas zona Sur     9203    6976.83\n",
       "75          VP Empresas zona Sur     9307   11140.37\n",
       "76          VP Empresas zona Sur     9310    8254.52\n",
       "77          VP Empresas zona Sur     9334    7068.49\n",
       "78          VP Empresas zona Sur     9915    5326.18\n",
       "\n",
       "[79 rows x 3 columns]"
      ]
     },
     "execution_count": 23,
     "metadata": {},
     "output_type": "execute_result"
    }
   ],
   "source": [
    "df_retos_2024 = pd.merge(df_temp, df_datos_GCAR, how='left', on='llave').loc[: , ['Desc', 'gerente_x', 'GCAR 2024_y']].rename(columns={'gerente_x': 'gerente', 'GCAR 2024_y': 'GCAR 2024'})\n",
    "df_retos_2024"
   ]
  },
  {
   "cell_type": "markdown",
   "metadata": {},
   "source": [
    "##### **Nota:** estos 5 gerentes y zonas quedaron sin reto asignado debido a que en la hoja datos no esta la información del 2022 y 2023 para poder calcular el reto para el 2024."
   ]
  },
  {
   "cell_type": "code",
   "execution_count": 24,
   "metadata": {},
   "outputs": [
    {
     "data": {
      "text/html": [
       "<div>\n",
       "<style scoped>\n",
       "    .dataframe tbody tr th:only-of-type {\n",
       "        vertical-align: middle;\n",
       "    }\n",
       "\n",
       "    .dataframe tbody tr th {\n",
       "        vertical-align: top;\n",
       "    }\n",
       "\n",
       "    .dataframe thead th {\n",
       "        text-align: right;\n",
       "    }\n",
       "</style>\n",
       "<table border=\"1\" class=\"dataframe\">\n",
       "  <thead>\n",
       "    <tr style=\"text-align: right;\">\n",
       "      <th></th>\n",
       "      <th>Desc</th>\n",
       "      <th>gerente</th>\n",
       "      <th>GCAR 2024</th>\n",
       "    </tr>\n",
       "  </thead>\n",
       "  <tbody>\n",
       "    <tr>\n",
       "      <th>7</th>\n",
       "      <td>VP Empresas zona Antioquia 1</td>\n",
       "      <td>9298</td>\n",
       "      <td>NaN</td>\n",
       "    </tr>\n",
       "    <tr>\n",
       "      <th>12</th>\n",
       "      <td>VP Empresas zona Antioquia 2</td>\n",
       "      <td>9210</td>\n",
       "      <td>NaN</td>\n",
       "    </tr>\n",
       "    <tr>\n",
       "      <th>51</th>\n",
       "      <td>VP Empresas zona Caribe</td>\n",
       "      <td>9142</td>\n",
       "      <td>NaN</td>\n",
       "    </tr>\n",
       "    <tr>\n",
       "      <th>56</th>\n",
       "      <td>VP Empresas zona Caribe</td>\n",
       "      <td>9189</td>\n",
       "      <td>NaN</td>\n",
       "    </tr>\n",
       "    <tr>\n",
       "      <th>72</th>\n",
       "      <td>VP Empresas zona Sur</td>\n",
       "      <td>9182</td>\n",
       "      <td>NaN</td>\n",
       "    </tr>\n",
       "  </tbody>\n",
       "</table>\n",
       "</div>"
      ],
      "text/plain": [
       "                            Desc  gerente  GCAR 2024\n",
       "7   VP Empresas zona Antioquia 1     9298        NaN\n",
       "12  VP Empresas zona Antioquia 2     9210        NaN\n",
       "51       VP Empresas zona Caribe     9142        NaN\n",
       "56       VP Empresas zona Caribe     9189        NaN\n",
       "72          VP Empresas zona Sur     9182        NaN"
      ]
     },
     "execution_count": 24,
     "metadata": {},
     "output_type": "execute_result"
    }
   ],
   "source": [
    "df_retos_2024.loc[df_retos_2024['GCAR 2024'].isna()]"
   ]
  },
  {
   "cell_type": "markdown",
   "metadata": {},
   "source": [
    "    Se exporta el dataFrame a excel"
   ]
  },
  {
   "cell_type": "code",
   "execution_count": 25,
   "metadata": {},
   "outputs": [],
   "source": [
    "df_retos_2024.to_excel('Retos 2024.xlsx', index=False)"
   ]
  },
  {
   "cell_type": "markdown",
   "metadata": {},
   "source": [
    "#### **1. Qué técnicas de modelación considera pueden ser pertinentes para asignar los retos:** "
   ]
  },
  {
   "cell_type": "markdown",
   "metadata": {},
   "source": [
    "Las tecnicas de modelación que pueden ser pertinentes para el congunto de datos suministrado son:\n",
    "- Modelado de datos entidad-relación\n",
    "- Modelado de datos orientado a objetos\n",
    "- Modelado de datos como series de tiempo"
   ]
  },
  {
   "cell_type": "markdown",
   "metadata": {},
   "source": [
    "#### **2. Cuál de ellas utilizó y por qué?**"
   ]
  },
  {
   "cell_type": "markdown",
   "metadata": {},
   "source": [
    "Se utilizo el modelado de datos entidad relación, debido a que este es el mas comun para modelar datos estructurados como los suministrados, aunque se pudo usar perfectamente el enfoque como series de tiempo debido a la periodicidad de los datos de manera mensual "
   ]
  },
  {
   "cell_type": "markdown",
   "metadata": {},
   "source": [
    "##### Se realizo un diagrama entidad realcion simple para entender como se relacionaban los datos de las diferentes hojas"
   ]
  },
  {
   "cell_type": "markdown",
   "metadata": {},
   "source": [
    "![Diagrama ER](diagrama_ER.png)"
   ]
  },
  {
   "cell_type": "markdown",
   "metadata": {},
   "source": [
    "#### **3. Qué herramientas conoce y usó para realizar esta prueba?**"
   ]
  },
  {
   "cell_type": "markdown",
   "metadata": {},
   "source": [
    "    Las herramientas que utilice para realizar esta prueba fueron excel, python con la libreria pandas y jupyter notebook. Ademas de git y github para guardar el proyecto."
   ]
  },
  {
   "cell_type": "markdown",
   "metadata": {},
   "source": [
    "#### **4. Asumiendo que las hojas de Datos, Rubros códigos y Zonas códigos, son tablas en zonas de resultados (tablas sql), diseñe un query que las combine y genere el resultado agregado el nombre de la zona, el rubro y el valor de cierre del Tamaño comercial para la zona del 2023. (Dejar expresadas las sentencias de SQL (pseudocódigo) en la respuesta)**"
   ]
  },
  {
   "cell_type": "markdown",
   "metadata": {},
   "source": [
    "    Para ser lo mas exactos posible con la query, voy a subir la información de las hojas Datos, Rubros códigos y Zonas códigos a la LZ a la zona de procesos"
   ]
  },
  {
   "cell_type": "markdown",
   "metadata": {},
   "source": [
    "Para esto voy a utilizar sparky_bc para subir las tablas y impala helper para realizar consultas SQL"
   ]
  },
  {
   "cell_type": "code",
   "execution_count": 26,
   "metadata": {},
   "outputs": [
    {
     "name": "stderr",
     "output_type": "stream",
     "text": [
      "2024-12-27 09:38:49 - [WARNING] - No se encontro la carpeta \"c:\\Users\\epenago\\Documents\\Prueba_técnica\\prueba_tecnica_analitico\\logs\" para guardar los logs\n"
     ]
    },
    {
     "name": "stdout",
     "output_type": "stream",
     "text": [
      " ____  _____ __  __  ___ _____ _____ \n",
      "|  _ \\| ____|  \\/  |/ _ \\_   _| ____|\n",
      "| |_) |  _| | |\\/| | | | || | |  _|  \n",
      "|  _ <| |___| |  | | |_| || | | |___ \n",
      "|_| \\_\\_____|_|  |_|\\___/ |_| |_____|\n",
      "                                     \n",
      " ____  ____   _    ____  _  __\n",
      "/ ___||  _ \\ / \\  |  _ \\| |/ /\n",
      "\\___ \\| |_) / _ \\ | |_) | ' / \n",
      " ___) |  __/ ___ \\|  _ <| . \\ \n",
      "|____/|_| /_/   \\_\\_| \\_\\_|\\_\\\n",
      "                              \n",
      "\n"
     ]
    },
    {
     "name": "stderr",
     "output_type": "stream",
     "text": [
      "2024-12-27 09:39:06 - [WARNING] - No se encontro la carpeta \"c:\\Users\\epenago\\Documents\\Prueba_técnica\\prueba_tecnica_analitico\\logs\" para guardar los logs\n"
     ]
    },
    {
     "name": "stdout",
     "output_type": "stream",
     "text": [
      " ___ __  __ ____   _    _        _    \n",
      "|_ _|  \\/  |  _ \\ / \\  | |      / \\   \n",
      " | || |\\/| | |_) / _ \\ | |     / _ \\  \n",
      " | || |  | |  __/ ___ \\| |___ / ___ \\ \n",
      "|___|_|  |_|_| /_/   \\_\\_____/_/   \\_\\\n",
      "                                      \n",
      " _   _ _____ _     ____  _____ ____  \n",
      "| | | | ____| |   |  _ \\| ____|  _ \\ \n",
      "| |_| |  _| | |   | |_) |  _| | |_) |\n",
      "|  _  | |___| |___|  __/| |___|  _ < \n",
      "|_| |_|_____|_____|_|   |_____|_| \\_\\\n",
      "                                     \n",
      "\n"
     ]
    }
   ],
   "source": [
    "import pandas as pd\n",
    "\n",
    "# Se importa la clase Helper del módulo helper.helper\n",
    "from helper.helper import Helper\n",
    "\n",
    "# Se importa la clase Sparky del módulo sparky_bc\n",
    "from sparky_bc import Sparky\n",
    "\n",
    "# Se instancia el sparky reemplazando 'nombre_usuario' por tu usuario y 'dsn' por el DSN configurado en la maquina\n",
    "# (dsn a partir de la version 2.1.0 de la libreria)\n",
    "sp = Sparky('epenago', 'IMPALA_PROD', hostname = \"sbmdeblze004.bancolombia.corp\")\n",
    "\n",
    "# Se instancia el helper\n",
    "ih = Helper(dsn=\"IMPALA_PROD\")"
   ]
  },
  {
   "cell_type": "markdown",
   "metadata": {},
   "source": [
    "    Cargo de nuevo las hojas Datos, Rubros códigos y Zonas códigos, para evitar subir a la LZ las modificaciones que se realizaron para resolver las preguntas anteriores"
   ]
  },
  {
   "cell_type": "code",
   "execution_count": 27,
   "metadata": {},
   "outputs": [],
   "source": [
    "\n",
    "df_datos = pd.read_excel(r'Prueba Bancolombia 2024 (analitico).xlsx', sheet_name='Datos')\n",
    "df_rubros_codigos = pd.read_excel(r'Prueba Bancolombia 2024 (analitico).xlsx', sheet_name='Rubros codigos')\n",
    "df_zonas_codigos = pd.read_excel(r'Prueba Bancolombia 2024 (analitico).xlsx', sheet_name='Zonas códigos')\n"
   ]
  },
  {
   "cell_type": "markdown",
   "metadata": {},
   "source": [
    "    Antes de subirse a la lz se eliminan los duplicados en el df_zonas_codigos"
   ]
  },
  {
   "cell_type": "code",
   "execution_count": 28,
   "metadata": {},
   "outputs": [
    {
     "data": {
      "text/html": [
       "<div>\n",
       "<style scoped>\n",
       "    .dataframe tbody tr th:only-of-type {\n",
       "        vertical-align: middle;\n",
       "    }\n",
       "\n",
       "    .dataframe tbody tr th {\n",
       "        vertical-align: top;\n",
       "    }\n",
       "\n",
       "    .dataframe thead th {\n",
       "        text-align: right;\n",
       "    }\n",
       "</style>\n",
       "<table border=\"1\" class=\"dataframe\">\n",
       "  <thead>\n",
       "    <tr style=\"text-align: right;\">\n",
       "      <th></th>\n",
       "      <th>zona</th>\n",
       "      <th>Desc</th>\n",
       "    </tr>\n",
       "  </thead>\n",
       "  <tbody>\n",
       "    <tr>\n",
       "      <th>0</th>\n",
       "      <td>22110</td>\n",
       "      <td>VP Empresas zona Antioquia 1</td>\n",
       "    </tr>\n",
       "    <tr>\n",
       "      <th>1</th>\n",
       "      <td>22120</td>\n",
       "      <td>VP Empresas zona Antioquia 2</td>\n",
       "    </tr>\n",
       "    <tr>\n",
       "      <th>2</th>\n",
       "      <td>22210</td>\n",
       "      <td>VP Empresas zona Bogotá 1</td>\n",
       "    </tr>\n",
       "    <tr>\n",
       "      <th>3</th>\n",
       "      <td>22220</td>\n",
       "      <td>VP Empresas zona Bogotá 2</td>\n",
       "    </tr>\n",
       "    <tr>\n",
       "      <th>4</th>\n",
       "      <td>22230</td>\n",
       "      <td>VP Empresas zona Bogotá 3</td>\n",
       "    </tr>\n",
       "    <tr>\n",
       "      <th>5</th>\n",
       "      <td>22300</td>\n",
       "      <td>VP Empresas zona Centro</td>\n",
       "    </tr>\n",
       "    <tr>\n",
       "      <th>6</th>\n",
       "      <td>22400</td>\n",
       "      <td>VP Empresas zona Sur</td>\n",
       "    </tr>\n",
       "    <tr>\n",
       "      <th>7</th>\n",
       "      <td>22500</td>\n",
       "      <td>VP Empresas zona Caribe</td>\n",
       "    </tr>\n",
       "  </tbody>\n",
       "</table>\n",
       "</div>"
      ],
      "text/plain": [
       "    zona                          Desc\n",
       "0  22110  VP Empresas zona Antioquia 1\n",
       "1  22120  VP Empresas zona Antioquia 2\n",
       "2  22210     VP Empresas zona Bogotá 1\n",
       "3  22220     VP Empresas zona Bogotá 2\n",
       "4  22230     VP Empresas zona Bogotá 3\n",
       "5  22300       VP Empresas zona Centro\n",
       "6  22400          VP Empresas zona Sur\n",
       "7  22500       VP Empresas zona Caribe"
      ]
     },
     "execution_count": 28,
     "metadata": {},
     "output_type": "execute_result"
    }
   ],
   "source": [
    "df_zonas_codigos.drop_duplicates(subset=['Desc'], inplace=True)\n",
    "df_zonas_codigos.reset_index(drop=True, inplace=True)\n",
    "df_zonas_codigos"
   ]
  },
  {
   "cell_type": "code",
   "execution_count": 29,
   "metadata": {},
   "outputs": [
    {
     "name": "stderr",
     "output_type": "stream",
     "text": [
      "2024-12-27 09:39:09 - [INFO] - Transcurrido: 1735310349, Tiempo de Refresco = 1000\n"
     ]
    },
    {
     "name": "stdout",
     "output_type": "stream",
     "text": [
      "----------------------------------------------------------------------\n",
      "  i  tipo        nombre           estado     hora_inicio   duracion   \n",
      "----------------------------------------------------------------------\n",
      " 1/1 DROP proceso_vsa.datos_PT   finalizado   09:39:11 AM     00:08.5 \n",
      "----------------------------------------------------------------------\n",
      "-------------------------------------------------------------------------\n",
      "  i   tipo          nombre           estado     hora_inicio   duracion   \n",
      "-------------------------------------------------------------------------\n",
      " 1/1 DF A LZ proceso_vsa.datos_PT   ejecutando   09:39:19 AM             "
     ]
    },
    {
     "name": "stderr",
     "output_type": "stream",
     "text": [
      "2024-12-27 09:39:26 - [INFO] - Intento 1 de 3\n"
     ]
    },
    {
     "name": "stdout",
     "output_type": "stream",
     "text": [
      " 1/1 DF A LZ proceso_vsa.datos_PT     subir_lz   09:39:19 AM             "
     ]
    },
    {
     "name": "stderr",
     "output_type": "stream",
     "text": [
      "2024-12-27 09:40:19 - [INFO] - Transcurrido: 1735310419, Tiempo de Refresco = 1000\n"
     ]
    },
    {
     "name": "stdout",
     "output_type": "stream",
     "text": [
      " 1/1 DF A LZ proceso_vsa.datos_PT   finalizado   09:39:19 AM     06:37.7 \n",
      "-------------------------------------------------------------------------\n",
      "-------------------------------------------------------------------------------\n",
      "  i  tipo            nombre                estado     hora_inicio   duracion   \n",
      "-------------------------------------------------------------------------------\n",
      " 2/2 DROP proceso_vsa.rubros_codigos_PT   finalizado   09:45:57 AM     00:01.4 \n",
      "-------------------------------------------------------------------------------\n",
      "----------------------------------------------------------------------------------\n",
      "  i   tipo              nombre                estado     hora_inicio   duracion   \n",
      "----------------------------------------------------------------------------------\n",
      " 2/2 DF A LZ proceso_vsa.rubros_codigos_PT   ejecutando   09:45:58 AM             "
     ]
    },
    {
     "name": "stderr",
     "output_type": "stream",
     "text": [
      "2024-12-27 09:46:06 - [INFO] - Intento 1 de 3\n"
     ]
    },
    {
     "name": "stdout",
     "output_type": "stream",
     "text": [
      " 2/2 DF A LZ proceso_vsa.rubros_codigos_PT   finalizado   09:45:58 AM     05:23.1 \n",
      "----------------------------------------------------------------------------------\n",
      "-------------------------------------------------------------------------------\n",
      "  i  tipo            nombre                estado     hora_inicio   duracion   \n",
      "-------------------------------------------------------------------------------\n",
      " 3/3 DROP  proceso_vsa.zonas_codigos_PT   finalizado   09:51:21 AM     00:00.5 \n",
      "-------------------------------------------------------------------------------\n",
      "----------------------------------------------------------------------------------\n",
      "  i   tipo              nombre                estado     hora_inicio   duracion   \n",
      "----------------------------------------------------------------------------------\n",
      " 3/3 DF A LZ  proceso_vsa.zonas_codigos_PT   ejecutando   09:51:22 AM             "
     ]
    },
    {
     "name": "stderr",
     "output_type": "stream",
     "text": [
      "2024-12-27 09:51:30 - [INFO] - Intento 1 de 3\n"
     ]
    },
    {
     "name": "stdout",
     "output_type": "stream",
     "text": [
      " 3/3 DF A LZ  proceso_vsa.zonas_codigos_PT   finalizado   09:51:22 AM     02:12.6 \n",
      "----------------------------------------------------------------------------------\n"
     ]
    }
   ],
   "source": [
    "# Subir tabla de pandas (DataFrame to LZ)\n",
    "ih.ejecutar_consulta(\"DROP TABLE IF EXISTS proceso_vsa.datos_PT PURGE\")\n",
    "sp.subir_df(df_datos, 'proceso_vsa.datos_PT', 'proceso_vsa')\n",
    "\n",
    "ih.ejecutar_consulta(\"DROP TABLE IF EXISTS proceso_vsa.rubros_codigos_PT PURGE\")\n",
    "sp.subir_df(df_rubros_codigos, 'proceso_vsa.rubros_codigos_PT', 'proceso_vsa')\n",
    "\n",
    "ih.ejecutar_consulta(\"DROP TABLE IF EXISTS proceso_vsa.zonas_codigos_PT PURGE\")\n",
    "sp.subir_df(df_zonas_codigos, 'proceso_vsa.zonas_codigos_PT', 'proceso_vsa')"
   ]
  },
  {
   "cell_type": "code",
   "execution_count": 30,
   "metadata": {},
   "outputs": [
    {
     "name": "stdout",
     "output_type": "stream",
     "text": [
      "------------------------------------------------------------------------------------\n",
      "  i    tipo               nombre                estado     hora_inicio   duracion   \n",
      "------------------------------------------------------------------------------------\n",
      " 4/4 DATAFRAME                                descargando   09:53:35 AM             "
     ]
    },
    {
     "name": "stderr",
     "output_type": "stream",
     "text": [
      "2024-12-27 09:53:37 - [INFO] - 8 filas, 4 columnas, 00:01.2 consultando, 00:00.3 descargando, 00:00.0 convirtiendo\n"
     ]
    },
    {
     "name": "stdout",
     "output_type": "stream",
     "text": [
      " 4/4 DATAFRAME                                 finalizado   09:53:35 AM     00:01.7 \n",
      "------------------------------------------------------------------------------------\n"
     ]
    },
    {
     "data": {
      "text/html": [
       "<div>\n",
       "<style scoped>\n",
       "    .dataframe tbody tr th:only-of-type {\n",
       "        vertical-align: middle;\n",
       "    }\n",
       "\n",
       "    .dataframe tbody tr th {\n",
       "        vertical-align: top;\n",
       "    }\n",
       "\n",
       "    .dataframe thead th {\n",
       "        text-align: right;\n",
       "    }\n",
       "</style>\n",
       "<table border=\"1\" class=\"dataframe\">\n",
       "  <thead>\n",
       "    <tr style=\"text-align: right;\">\n",
       "      <th></th>\n",
       "      <th>zona_nombre</th>\n",
       "      <th>zona</th>\n",
       "      <th>rubro_nombre</th>\n",
       "      <th>valor_cierre_2023</th>\n",
       "    </tr>\n",
       "  </thead>\n",
       "  <tbody>\n",
       "    <tr>\n",
       "      <th>0</th>\n",
       "      <td>VP Empresas zona Antioquia 2</td>\n",
       "      <td>22120</td>\n",
       "      <td>Tamaño comercial</td>\n",
       "      <td>1440314.17</td>\n",
       "    </tr>\n",
       "    <tr>\n",
       "      <th>1</th>\n",
       "      <td>VP Empresas zona Sur</td>\n",
       "      <td>22400</td>\n",
       "      <td>Tamaño comercial</td>\n",
       "      <td>1270682.69</td>\n",
       "    </tr>\n",
       "    <tr>\n",
       "      <th>2</th>\n",
       "      <td>VP Empresas zona Bogotá 3</td>\n",
       "      <td>22230</td>\n",
       "      <td>Tamaño comercial</td>\n",
       "      <td>1295494.78</td>\n",
       "    </tr>\n",
       "    <tr>\n",
       "      <th>3</th>\n",
       "      <td>VP Empresas zona Bogotá 1</td>\n",
       "      <td>22210</td>\n",
       "      <td>Tamaño comercial</td>\n",
       "      <td>1368384.32</td>\n",
       "    </tr>\n",
       "    <tr>\n",
       "      <th>4</th>\n",
       "      <td>VP Empresas zona Caribe</td>\n",
       "      <td>22500</td>\n",
       "      <td>Tamaño comercial</td>\n",
       "      <td>1198621.00</td>\n",
       "    </tr>\n",
       "    <tr>\n",
       "      <th>5</th>\n",
       "      <td>VP Empresas zona Centro</td>\n",
       "      <td>22300</td>\n",
       "      <td>Tamaño comercial</td>\n",
       "      <td>1116107.31</td>\n",
       "    </tr>\n",
       "    <tr>\n",
       "      <th>6</th>\n",
       "      <td>VP Empresas zona Bogotá 2</td>\n",
       "      <td>22220</td>\n",
       "      <td>Tamaño comercial</td>\n",
       "      <td>1518174.07</td>\n",
       "    </tr>\n",
       "    <tr>\n",
       "      <th>7</th>\n",
       "      <td>VP Empresas zona Antioquia 1</td>\n",
       "      <td>22110</td>\n",
       "      <td>Tamaño comercial</td>\n",
       "      <td>1276101.99</td>\n",
       "    </tr>\n",
       "  </tbody>\n",
       "</table>\n",
       "</div>"
      ],
      "text/plain": [
       "                    zona_nombre   zona      rubro_nombre  valor_cierre_2023\n",
       "0  VP Empresas zona Antioquia 2  22120  Tamaño comercial         1440314.17\n",
       "1          VP Empresas zona Sur  22400  Tamaño comercial         1270682.69\n",
       "2     VP Empresas zona Bogotá 3  22230  Tamaño comercial         1295494.78\n",
       "3     VP Empresas zona Bogotá 1  22210  Tamaño comercial         1368384.32\n",
       "4       VP Empresas zona Caribe  22500  Tamaño comercial         1198621.00\n",
       "5       VP Empresas zona Centro  22300  Tamaño comercial         1116107.31\n",
       "6     VP Empresas zona Bogotá 2  22220  Tamaño comercial         1518174.07\n",
       "7  VP Empresas zona Antioquia 1  22110  Tamaño comercial         1276101.99"
      ]
     },
     "execution_count": 30,
     "metadata": {},
     "output_type": "execute_result"
    }
   ],
   "source": [
    "consulta = \"\"\"\n",
    "SELECT \n",
    "    z.`Desc` AS zona_nombre,\n",
    "    z. zona,\n",
    "    r.descri_rubro AS rubro_nombre,\n",
    "    (SUM(d.`202301`) + SUM(d.`202302`) + SUM(d.`202303`) + SUM(d.`202304`) +\n",
    "     SUM(d.`202305`) + SUM(d.`202306`) + SUM(d.`202307`) + SUM(d.`202308`) +\n",
    "     SUM(d.`202309`) + SUM(d.`202310`) + SUM(d.`202311`) + SUM(d.`202312`)) / 12 AS valor_cierre_2023\n",
    "FROM \n",
    "    proceso_vsa.datos_PT d\n",
    "JOIN \n",
    "    proceso_vsa.zonas_codigos_PT z ON d.zona = z.zona\n",
    "JOIN \n",
    "    proceso_vsa.rubros_codigos_PT r ON d.cod_rubro = r.cod_rubro\n",
    "WHERE \n",
    "    d.cod_rubro = 96450\n",
    "GROUP BY \n",
    "    Z. zona, z.`Desc`, r.descri_rubro;\"\"\"\n",
    "\n",
    "df = ih.obtener_dataframe(consulta)\n",
    "df"
   ]
  },
  {
   "cell_type": "markdown",
   "metadata": {},
   "source": [
    "---\n",
    "\n",
    "### **Actividad 3:**\n",
    "El Vicepresidente del Negocio de Independientes y su Director, al recibir por parte del equipo de analítica de negocios los retos de sus vicepresidencias regionales manifiestan inquietudes e incoherencias frente a la definición del reto y la distribución del mismo tanto en Tamaño comercial como en Gestión Comercial Ajustada por Riesgos. Programa un espacio para revisar con ambos la razón de las inconsistencias, incoherencias y pasos a seguir.\n",
    "\n",
    "Los calculos realizados para corregir las inconsistencias se encuentran en el archivo de excel en la hoja **Datos_Actividad3**\n"
   ]
  },
  {
   "cell_type": "markdown",
   "metadata": {},
   "source": [
    "    Inicialmente se analizan los datos para detectar si realmente hay alguna incoherencia en la asignación de los retos, antes de la reunion"
   ]
  },
  {
   "cell_type": "markdown",
   "metadata": {},
   "source": [
    "Para el reto GCAR se identifica que los valores que se asignaron para cada region no coinsiden con el reto global, siendo el valor del reto para el 2024 de  **861.943,72** y el de la suma de las regiones de  **869.528,72** presentando una diferencia de  **7.585,00** \n",
    "\n",
    "    Para corregir esta inconsistencia se recalculan los valores y los porcentajes de los retos para cada region, ademas de colocar las cifras de los retos mensuales sin acumularse\n"
   ]
  },
  {
   "cell_type": "markdown",
   "metadata": {},
   "source": [
    "Para el reto del tamaño comercial se identifica que tanto los porcentajes de la region como los valores estan correctos, la diferencia radica es en el reto mensual propuesto por el equipo analitico, que no concuerda con el global siendo este por un valor de **21.017.318,9** y el asignado mensual por **20.135.687** teniendo una diferencia de **881.631,5**\n",
    "\n",
    "    Para corregir esta inconsistencia se calculan de nuevo los retos mensuales teniendo en cuenta el historico de datos"
   ]
  },
  {
   "cell_type": "markdown",
   "metadata": {},
   "source": [
    "Agenda de la Reunión (60 minutos)\n",
    "\n",
    "**Introducción (5 minutos):**\n",
    "- Propósito: Identificar y resolver inconsistencias en los retos de GCAR y Tamaño Comercial.\n",
    "- Escuchar al vicepresidente y su director sobre los motivos de las inconformidades.\n",
    "\n",
    "**Análisis de las inconsistencias (25 minutos):**\n",
    "\n",
    "1. Reto GCAR (12 minutos):\n",
    "    - Presentación de los valores globales y regionales.\n",
    "    - Discusión sobre la diferencia de 7.585,00 y sus posibles causas.\n",
    "\n",
    "2. Reto Tamaño Comercial (13 minutos):\n",
    "    - Revisión de los porcentajes y su coherencia.\n",
    "    - Evaluación de la diferencia mensual de 881.631,5 y análisis de su impacto.\n",
    "\n",
    "**Propuesta de soluciones (15 minutos):**\n",
    "- Recalculo de valores y porcentajes de los retos GCAR para cada región.\n",
    "- Ajuste de los retos mensuales en Tamaño Comercial con base en datos históricos.\n",
    "- Validación de las soluciones propuestas por los participantes.\n",
    "\n",
    "**Definición de pasos a seguir (10 minutos):**\n",
    "- Aprobación de los ajustes necesarios.\n",
    "- Establecimiento de un calendario para implementar los cambios.\n",
    "- Asignación de responsables para las acciones definidas.\n",
    "\n",
    "**Cierre y conclusiones (5 minutos):**\n",
    "- Resumen de los acuerdos alcanzados.\n",
    "- Confirmación de los próximos pasos y fechas de seguimiento."
   ]
  },
  {
   "cell_type": "markdown",
   "metadata": {},
   "source": [
    "---\n",
    "### **Actividad 4:**\n",
    "Teniendo en cuenta el siguiente diagrama entidad relación y los conceptos básicos de la teoría básica de conjuntos y cálculo relacional, construya o genere las consultas SQL respectivas de acuerdo a las siguientes preguntas:\n",
    "\n",
    "1. Cuáles son las ventas de cada uno de los productos vendidos por categoría y por cada uno de los vendedores, indique aquí los nombres de estado civil sexo y tipo de identificación de cada vendedor en la consulta.\n",
    "2. Cuáles son los productos que han tenido mayor venta y a qué vendedor pertenece?\n",
    "3. Construya una consulta general que involucre todas las tablas del Modelo Relacional y permita visualizar totales en ella.\n",
    "\n",
    "Nota: Dejar expresadas las sentencias de SQL (pseudocódigo) en la respuesta ya que no se cuenta con tablas de datos para este enunciado.\n"
   ]
  },
  {
   "cell_type": "markdown",
   "metadata": {},
   "source": [
    "#### **1. Ventas de cada producto por categoría y por vendedor**\n",
    "Esta consulta muestra las ventas agrupadas por categoría, producto y vendedor, incluyendo detalles del vendedor como estado civil, sexo y tipo de identificación."
   ]
  },
  {
   "cell_type": "code",
   "execution_count": null,
   "metadata": {
    "vscode": {
     "languageId": "sql"
    }
   },
   "outputs": [],
   "source": [
    "SELECT \n",
    "    TblVendedor.Nombre1 AS NombreVendedor, \n",
    "    TblVendedor.Nombre2 AS SegundoNombre, \n",
    "    TblVendedor.Apellido1, \n",
    "    TblVendedor.Apellido2, \n",
    "    TblConceptoDetalle.Descripcion AS EstadoCivil,\n",
    "    CASE \n",
    "        WHEN TblVendedor.Sexo = 1 THEN 'Masculino' \n",
    "        ELSE 'Femenino' \n",
    "    END AS Sexo,\n",
    "    TblConcepto.Descripcion AS TipoIdentificacion,\n",
    "    TblCategoria.Descripcion AS Categoria,\n",
    "    TblProducto.Nombre AS Producto,\n",
    "    SUM(TblDetalleVenta.Cantidad) AS CantidadVendida,\n",
    "    SUM(TblDetalleVenta.Total) AS TotalVenta\n",
    "FROM \n",
    "    TblVendedor\n",
    "INNER JOIN \n",
    "    TblVenta ON TblVendedor.Identificacion = TblVenta.Vendedor\n",
    "INNER JOIN \n",
    "    TblDetalleVenta ON TblVenta.IdFactura = TblDetalleVenta.IdFactura\n",
    "INNER JOIN \n",
    "    TblProducto ON TblDetalleVenta.IdProducto = TblProducto.IdProducto\n",
    "INNER JOIN \n",
    "    TblCategoria ON TblProducto.IdCategoria = TblCategoria.IdCategoria\n",
    "INNER JOIN \n",
    "    TblConceptoDetalle ON TblVendedor.EstadoCivil = TblConceptoDetalle.IdDetalleConcepto\n",
    "INNER JOIN \n",
    "    TblConcepto ON TblVendedor.TipoDeIdentificacion = TblConcepto.IdConcepto\n",
    "GROUP BY \n",
    "    TblVendedor.Nombre1, TblVendedor.Nombre2, TblVendedor.Apellido1, TblVendedor.Apellido2, \n",
    "    TblConceptoDetalle.Descripcion, TblVendedor.Sexo, TblConcepto.Descripcion, TblCategoria.Descripcion, TblProducto.Nombre\n",
    "ORDER BY \n",
    "    TblCategoria.Descripcion, TblVendedor.Nombre1, TblProducto.Nombre;\n"
   ]
  },
  {
   "cell_type": "markdown",
   "metadata": {},
   "source": [
    "#### **2. Productos con mayor venta y su vendedor**\n",
    "Esta consulta identifica los productos con mayores ventas totales y el vendedor asociado."
   ]
  },
  {
   "cell_type": "code",
   "execution_count": null,
   "metadata": {
    "vscode": {
     "languageId": "sql"
    }
   },
   "outputs": [],
   "source": [
    "SELECT \n",
    "    TOP 1 WITH TIES\n",
    "    TblProducto.Nombre AS Producto,\n",
    "    TblVendedor.Nombre1 AS NombreVendedor, \n",
    "    TblVendedor.Apellido1 AS ApellidoVendedor,\n",
    "    SUM(TblDetalleVenta.Cantidad) AS CantidadVendida,\n",
    "    SUM(TblDetalleVenta.Total) AS TotalVenta\n",
    "FROM \n",
    "    TblDetalleVenta\n",
    "INNER JOIN \n",
    "    TblVenta ON TblDetalleVenta.IdFactura = TblVenta.IdFactura\n",
    "INNER JOIN \n",
    "    TblProducto ON TblDetalleVenta.IdProducto = TblProducto.IdProducto\n",
    "INNER JOIN \n",
    "    TblVendedor ON TblVenta.Vendedor = TblVendedor.Identificacion\n",
    "GROUP BY \n",
    "    TblProducto.Nombre, TblVendedor.Nombre1, TblVendedor.Apellido1\n",
    "ORDER BY \n",
    "    SUM(TblDetalleVenta.Total) DESC;\n"
   ]
  },
  {
   "cell_type": "markdown",
   "metadata": {},
   "source": [
    "#### **3. Consulta general que involucra todas las tablas con totales**\n",
    "Esta consulta combina datos de todas las tablas en el modelo relacional para mostrar detalles completos y totales."
   ]
  },
  {
   "cell_type": "code",
   "execution_count": null,
   "metadata": {
    "vscode": {
     "languageId": "sql"
    }
   },
   "outputs": [],
   "source": [
    "SELECT \n",
    "    TblVenta.IdFactura AS Factura,\n",
    "    TblVenta.Fechas AS FechaVenta,\n",
    "    TblVendedor.Nombre1 AS NombreVendedor, \n",
    "    TblVendedor.Apellido1 AS ApellidoVendedor,\n",
    "    TblConcepto.Descripcion AS TipoIdentificacion,\n",
    "    TblProducto.Nombre AS Producto,\n",
    "    TblProducto.Descripcion AS DescripcionProducto,\n",
    "    TblCategoria.Descripcion AS Categoria,\n",
    "    TblDetalleVenta.Cantidad AS CantidadVendida,\n",
    "    TblDetalleVenta.Total AS TotalProducto,\n",
    "    TblVenta.Iva AS IVA,\n",
    "    SUM(TblDetalleVenta.Total + TblVenta.Iva) OVER (PARTITION BY TblVenta.IdFactura) AS TotalFactura\n",
    "FROM \n",
    "    TblVenta\n",
    "INNER JOIN \n",
    "    TblVendedor ON TblVenta.Vendedor = TblVendedor.Identificacion\n",
    "INNER JOIN \n",
    "    TblDetalleVenta ON TblVenta.IdFactura = TblDetalleVenta.IdFactura\n",
    "INNER JOIN \n",
    "    TblProducto ON TblDetalleVenta.IdProducto = TblProducto.IdProducto\n",
    "INNER JOIN \n",
    "    TblCategoria ON TblProducto.IdCategoria = TblCategoria.IdCategoria\n",
    "INNER JOIN \n",
    "    TblConceptoDetalle ON TblVendedor.EstadoCivil = TblConceptoDetalle.IdDetalleConcepto\n",
    "INNER JOIN \n",
    "    TblConcepto ON TblVendedor.TipoDeIdentificacion = TblConcepto.IdConcepto\n",
    "ORDER BY \n",
    "    TblVenta.IdFactura, TblVendedor.Nombre1, TblProducto.Nombre;\n"
   ]
  },
  {
   "cell_type": "markdown",
   "metadata": {},
   "source": [
    "---\n",
    "### **Preguntas bonus**"
   ]
  },
  {
   "cell_type": "markdown",
   "metadata": {},
   "source": [
    "#### **1.\t¿Cuáles son algunas estrategias que usarías para optimizar el rendimiento de consultas SQL en grandes conjuntos de datos?**"
   ]
  },
  {
   "cell_type": "markdown",
   "metadata": {},
   "source": [
    "Para optimizar el rendimiento seria enfatico en el uso de las buenas practicas\n",
    "\n",
    "A nivel de creación de tablar y bases de datos:\n",
    "- Normalización: Diseña tablas bien normalizadas para evitar redundancias y mantener la consistencia de los datos\n",
    "- Particionamiento: Divide grandes tablas en particiones horizontales o verticales para distribuir la carga de trabajo.\n",
    "\n",
    "A nivel de consultas:\n",
    "- Seleccionar solo las columnas necesarias: Evita el uso de SELECT *; selecciona únicamente las columnas requeridas.\n",
    "- Filtrar eficientemente: Usa cláusulas WHERE para limitar los datos procesados."
   ]
  },
  {
   "cell_type": "markdown",
   "metadata": {},
   "source": [
    "#### **2.\tSe tiene como resultado de un modelo de Clustering para clientes del segmento Personas un total de 12 grupos, donde existen 3 grupos que abarcan aproximadamente el 53% de la muestra tenida en cuenta. ¿Sí se requieren tener grupos más balanceados, qué metodologías utilizarías para balancear la composición de cada Cluster?**"
   ]
  },
  {
   "cell_type": "markdown",
   "metadata": {},
   "source": [
    "|Cluster | Composición |\n",
    "|--------|-------------|\n",
    "|1 | 1,748 |\n",
    "|2 | 3,496 |\n",
    "|3 | 5,244 |\n",
    "|4 | 6,992 |\n",
    "|5 | 8,740 |\n",
    "|20 | 34,959 |\n",
    "|22 | 38,455 |\n",
    "|24 | 41,951 |\n",
    "|9 | 15,732 |\n",
    "|10 | 17,480 |\n",
    "|11 | 19,228 |\n",
    "|12 | 20,976 |\n"
   ]
  },
  {
   "cell_type": "markdown",
   "metadata": {},
   "source": [
    "Para tratar de balancear los clusters:\n",
    "- Iniciaria tratande a de ajustar los Parámetros en el Algoritmo de Clustering\n",
    "- De ser posible modificar el número de grupos combinar clústeres pequeños que tengan características similares.\n",
    "- Modificando la muestra, reduciendo el tamaño de los clústeres más grandes (undersampling) o Aumentar el tamaño de los clústeres más pequeños (oversampling)"
   ]
  }
 ],
 "metadata": {
  "kernelspec": {
   "display_name": "venv",
   "language": "python",
   "name": "python3"
  },
  "language_info": {
   "codemirror_mode": {
    "name": "ipython",
    "version": 3
   },
   "file_extension": ".py",
   "mimetype": "text/x-python",
   "name": "python",
   "nbconvert_exporter": "python",
   "pygments_lexer": "ipython3",
   "version": "3.9.12"
  }
 },
 "nbformat": 4,
 "nbformat_minor": 2
}
