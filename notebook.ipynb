{
 "cells": [
  {
   "cell_type": "markdown",
   "metadata": {},
   "source": [
    "# Prueba Técnica\n",
    "\n",
    "##### **Objetivo:** Asignación de retos comerciales para la variable de GCAR del negocio empresarial por gerente comercial y análisis de tamaño comercial.\n",
    "\n",
    "### Tener en cuenta:\n",
    "- El reto para la variable de GCAR de la Vicepresidencia Empresarial para 2024 es un crecimiento del 15% adicional vs el año anterior.\n",
    "- La Vicepresidencia Empresarial consta de 8 zonas y 78 gerentes comerciales.\n",
    "- En la hoja datos se encuentran los datos codificados de la GCAR y tamaño comercial por gerente comercial y zona de enero 2022 a diciembre 2023. El dato es generado mensualmente, es decir, no se encuentra acumulado.\n",
    "- En la hoja Zonas códigos se encuentra la relación del código de zona y el nombre de la zona. En la hoja Rubros códigos se encuentra el código del rubro y la descripción del mismo.\n",
    "- Para encontrar el valor del reto de GCAR se debe acumular los resultados del año 2023 y aplicar la tasa de crecimiento para el año 2024.\n",
    "- Recordar que el TC se acumula como el promedio de los meses y la GCAR en suma. El cierre de cada año es acumulado de enero a diciembre."
   ]
  },
  {
   "cell_type": "markdown",
   "metadata": {},
   "source": [
    "---\n",
    "\n",
    "### Actividad 1:  Responda las siguientes preguntas:\n",
    "\n",
    "1. Cuál fue el gerente con mayor crecimiento en su Tamaño comercial entre 2022 y 2023? // el gerente con mayor crecimiento comercial es el **9116** con un crecimiento de **813.809,24**\n",
    "2. Cuánto fue el crecimiento de la zona Antioquia 1 en GCAR entre 2022 y 2023? // el crecimiento de la zona Antioquia 1 en GCAR fue de **993.99**\n",
    "3. Cuál fue la zona con menor GCAR en el segundo semestre de 2022 y la de mayor tamaño comercial en todo 2023? \n"
   ]
  },
  {
   "cell_type": "code",
   "execution_count": 26,
   "metadata": {},
   "outputs": [],
   "source": [
    "# Importamos las libreria pandas para trabajar con los datos y responder las preguntas de la actividad 1\n",
    "import pandas as pd\n",
    "pd.options.display.float_format = '{:.2f}'.format"
   ]
  },
  {
   "cell_type": "code",
   "execution_count": 27,
   "metadata": {},
   "outputs": [],
   "source": [
    "# Importamos los datos necesarios del archivo de excel para resolver las preguntas de la actividad 1\n",
    "\n",
    "df_datos = pd.read_excel(r'Prueba Bancolombia 2024 (analitico).xlsx', sheet_name='Datos')\n",
    "df_rubros_codigos = pd.read_excel(r'Prueba Bancolombia 2024 (analitico).xlsx', sheet_name='Rubros codigos')\n",
    "df_zonas_codigos = pd.read_excel(r'Prueba Bancolombia 2024 (analitico).xlsx', sheet_name='Zonas códigos')"
   ]
  },
  {
   "cell_type": "code",
   "execution_count": 28,
   "metadata": {},
   "outputs": [],
   "source": [
    "# Creamos 2 columnas para saber los totales del 2022 y 2023\n",
    "\n",
    "df_datos['total_2022'] = df_datos.filter(like='2022').sum(axis=1)\n",
    "df_datos['total_2023'] = df_datos.filter(like='2023').sum(axis=1)"
   ]
  },
  {
   "cell_type": "code",
   "execution_count": 29,
   "metadata": {},
   "outputs": [],
   "source": [
    "# Creamos una columna para saber el crecimiento de los totales del 2022 y 2023 restando la diferencia de los totales\n",
    "\n",
    "df_datos['Crecimiento'] = df_datos['total_2023'] - df_datos['total_2022']"
   ]
  },
  {
   "cell_type": "markdown",
   "metadata": {},
   "source": [
    "Podemos ver las columnas **\"total_2022\"**, **\"total-2023\"** y **\"Crecimiento\"** creadas al final del DataFrame omitiendo los datos mensuales"
   ]
  },
  {
   "cell_type": "code",
   "execution_count": 37,
   "metadata": {},
   "outputs": [
    {
     "data": {
      "text/html": [
       "<div>\n",
       "<style scoped>\n",
       "    .dataframe tbody tr th:only-of-type {\n",
       "        vertical-align: middle;\n",
       "    }\n",
       "\n",
       "    .dataframe tbody tr th {\n",
       "        vertical-align: top;\n",
       "    }\n",
       "\n",
       "    .dataframe thead th {\n",
       "        text-align: right;\n",
       "    }\n",
       "</style>\n",
       "<table border=\"1\" class=\"dataframe\">\n",
       "  <thead>\n",
       "    <tr style=\"text-align: right;\">\n",
       "      <th></th>\n",
       "      <th>zona</th>\n",
       "      <th>gerente</th>\n",
       "      <th>cod_rubro</th>\n",
       "      <th>total_2022</th>\n",
       "      <th>total_2023</th>\n",
       "      <th>Crecimiento</th>\n",
       "    </tr>\n",
       "  </thead>\n",
       "  <tbody>\n",
       "    <tr>\n",
       "      <th>105</th>\n",
       "      <td>22220</td>\n",
       "      <td>9116</td>\n",
       "      <td>96450</td>\n",
       "      <td>2887119.17</td>\n",
       "      <td>3700928.40</td>\n",
       "      <td>813809.24</td>\n",
       "    </tr>\n",
       "    <tr>\n",
       "      <th>133</th>\n",
       "      <td>22300</td>\n",
       "      <td>9922</td>\n",
       "      <td>96450</td>\n",
       "      <td>2810509.57</td>\n",
       "      <td>3267508.32</td>\n",
       "      <td>456998.75</td>\n",
       "    </tr>\n",
       "    <tr>\n",
       "      <th>110</th>\n",
       "      <td>22220</td>\n",
       "      <td>9218</td>\n",
       "      <td>96450</td>\n",
       "      <td>1189113.04</td>\n",
       "      <td>1618350.21</td>\n",
       "      <td>429237.17</td>\n",
       "    </tr>\n",
       "    <tr>\n",
       "      <th>88</th>\n",
       "      <td>22120</td>\n",
       "      <td>9274</td>\n",
       "      <td>96450</td>\n",
       "      <td>1901843.38</td>\n",
       "      <td>2283314.82</td>\n",
       "      <td>381471.44</td>\n",
       "    </tr>\n",
       "    <tr>\n",
       "      <th>120</th>\n",
       "      <td>22230</td>\n",
       "      <td>9160</td>\n",
       "      <td>96450</td>\n",
       "      <td>1663402.64</td>\n",
       "      <td>2017606.78</td>\n",
       "      <td>354204.14</td>\n",
       "    </tr>\n",
       "    <tr>\n",
       "      <th>...</th>\n",
       "      <td>...</td>\n",
       "      <td>...</td>\n",
       "      <td>...</td>\n",
       "      <td>...</td>\n",
       "      <td>...</td>\n",
       "      <td>...</td>\n",
       "    </tr>\n",
       "    <tr>\n",
       "      <th>104</th>\n",
       "      <td>22210</td>\n",
       "      <td>9909</td>\n",
       "      <td>96450</td>\n",
       "      <td>745644.59</td>\n",
       "      <td>616213.09</td>\n",
       "      <td>-129431.50</td>\n",
       "    </tr>\n",
       "    <tr>\n",
       "      <th>142</th>\n",
       "      <td>22400</td>\n",
       "      <td>9334</td>\n",
       "      <td>96450</td>\n",
       "      <td>1584679.45</td>\n",
       "      <td>1440570.97</td>\n",
       "      <td>-144108.48</td>\n",
       "    </tr>\n",
       "    <tr>\n",
       "      <th>141</th>\n",
       "      <td>22400</td>\n",
       "      <td>9310</td>\n",
       "      <td>96450</td>\n",
       "      <td>2495384.17</td>\n",
       "      <td>2345218.70</td>\n",
       "      <td>-150165.47</td>\n",
       "    </tr>\n",
       "    <tr>\n",
       "      <th>144</th>\n",
       "      <td>22500</td>\n",
       "      <td>9144</td>\n",
       "      <td>96450</td>\n",
       "      <td>2436456.01</td>\n",
       "      <td>2266446.89</td>\n",
       "      <td>-170009.12</td>\n",
       "    </tr>\n",
       "    <tr>\n",
       "      <th>118</th>\n",
       "      <td>22230</td>\n",
       "      <td>9149</td>\n",
       "      <td>96450</td>\n",
       "      <td>1374972.79</td>\n",
       "      <td>1184364.36</td>\n",
       "      <td>-190608.42</td>\n",
       "    </tr>\n",
       "  </tbody>\n",
       "</table>\n",
       "<p>152 rows × 6 columns</p>\n",
       "</div>"
      ],
      "text/plain": [
       "      zona  gerente  cod_rubro  total_2022  total_2023  Crecimiento\n",
       "105  22220     9116      96450  2887119.17  3700928.40    813809.24\n",
       "133  22300     9922      96450  2810509.57  3267508.32    456998.75\n",
       "110  22220     9218      96450  1189113.04  1618350.21    429237.17\n",
       "88   22120     9274      96450  1901843.38  2283314.82    381471.44\n",
       "120  22230     9160      96450  1663402.64  2017606.78    354204.14\n",
       "..     ...      ...        ...         ...         ...          ...\n",
       "104  22210     9909      96450   745644.59   616213.09   -129431.50\n",
       "142  22400     9334      96450  1584679.45  1440570.97   -144108.48\n",
       "141  22400     9310      96450  2495384.17  2345218.70   -150165.47\n",
       "144  22500     9144      96450  2436456.01  2266446.89   -170009.12\n",
       "118  22230     9149      96450  1374972.79  1184364.36   -190608.42\n",
       "\n",
       "[152 rows x 6 columns]"
      ]
     },
     "execution_count": 37,
     "metadata": {},
     "output_type": "execute_result"
    }
   ],
   "source": [
    "df_datos.loc[: , ['zona', 'gerente', 'cod_rubro', 'total_2022', 'total_2023', 'Crecimiento']]"
   ]
  },
  {
   "cell_type": "markdown",
   "metadata": {},
   "source": [
    "#### 1. Cuál fue el gerente con mayor crecimiento en su Tamaño comercial entre 2022 y 2023?\n",
    "    Para responder esta pregunta inicialmente Nos fijamos en el dataFrame de los rubros para identificar el codigo del Tamaño comercial "
   ]
  },
  {
   "cell_type": "code",
   "execution_count": 39,
   "metadata": {},
   "outputs": [
    {
     "data": {
      "text/html": [
       "<div>\n",
       "<style scoped>\n",
       "    .dataframe tbody tr th:only-of-type {\n",
       "        vertical-align: middle;\n",
       "    }\n",
       "\n",
       "    .dataframe tbody tr th {\n",
       "        vertical-align: top;\n",
       "    }\n",
       "\n",
       "    .dataframe thead th {\n",
       "        text-align: right;\n",
       "    }\n",
       "</style>\n",
       "<table border=\"1\" class=\"dataframe\">\n",
       "  <thead>\n",
       "    <tr style=\"text-align: right;\">\n",
       "      <th></th>\n",
       "      <th>descri_rubro</th>\n",
       "      <th>cod_rubro</th>\n",
       "    </tr>\n",
       "  </thead>\n",
       "  <tbody>\n",
       "    <tr>\n",
       "      <th>0</th>\n",
       "      <td>GCAR</td>\n",
       "      <td>95999</td>\n",
       "    </tr>\n",
       "    <tr>\n",
       "      <th>1</th>\n",
       "      <td>Tamaño comercial</td>\n",
       "      <td>96450</td>\n",
       "    </tr>\n",
       "  </tbody>\n",
       "</table>\n",
       "</div>"
      ],
      "text/plain": [
       "       descri_rubro  cod_rubro\n",
       "0              GCAR      95999\n",
       "1  Tamaño comercial      96450"
      ]
     },
     "execution_count": 39,
     "metadata": {},
     "output_type": "execute_result"
    }
   ],
   "source": [
    "df_rubros_codigos"
   ]
  },
  {
   "cell_type": "markdown",
   "metadata": {},
   "source": [
    "    Una vez hecho esto, solo filtramos el codigo 96450 y agrupamos por gerente"
   ]
  },
  {
   "cell_type": "code",
   "execution_count": 44,
   "metadata": {},
   "outputs": [],
   "source": [
    "df_temp = df_datos.loc[df_datos['cod_rubro'] == 96450].groupby('gerente').agg({'total_2022': 'sum', 'total_2023': 'sum', 'Crecimiento': 'sum'}).reset_index().copy()"
   ]
  },
  {
   "cell_type": "markdown",
   "metadata": {},
   "source": [
    "    Finalmente ordenamos los datos de mayor a menor utilizando la columna **\"Crecimiento\"**, para llegar a la conclusion de que el gerente con mayor crecimiento comercial es el 9116 con un crecimiento de 813.809,24"
   ]
  },
  {
   "cell_type": "code",
   "execution_count": 45,
   "metadata": {},
   "outputs": [
    {
     "data": {
      "text/html": [
       "<div>\n",
       "<style scoped>\n",
       "    .dataframe tbody tr th:only-of-type {\n",
       "        vertical-align: middle;\n",
       "    }\n",
       "\n",
       "    .dataframe tbody tr th {\n",
       "        vertical-align: top;\n",
       "    }\n",
       "\n",
       "    .dataframe thead th {\n",
       "        text-align: right;\n",
       "    }\n",
       "</style>\n",
       "<table border=\"1\" class=\"dataframe\">\n",
       "  <thead>\n",
       "    <tr style=\"text-align: right;\">\n",
       "      <th></th>\n",
       "      <th>gerente</th>\n",
       "      <th>total_2022</th>\n",
       "      <th>total_2023</th>\n",
       "      <th>Crecimiento</th>\n",
       "    </tr>\n",
       "  </thead>\n",
       "  <tbody>\n",
       "    <tr>\n",
       "      <th>1</th>\n",
       "      <td>9116</td>\n",
       "      <td>2887119.17</td>\n",
       "      <td>3700928.40</td>\n",
       "      <td>813809.24</td>\n",
       "    </tr>\n",
       "    <tr>\n",
       "      <th>75</th>\n",
       "      <td>9922</td>\n",
       "      <td>2810509.57</td>\n",
       "      <td>3267508.32</td>\n",
       "      <td>456998.75</td>\n",
       "    </tr>\n",
       "    <tr>\n",
       "      <th>35</th>\n",
       "      <td>9218</td>\n",
       "      <td>1189113.04</td>\n",
       "      <td>1618350.21</td>\n",
       "      <td>429237.17</td>\n",
       "    </tr>\n",
       "    <tr>\n",
       "      <th>38</th>\n",
       "      <td>9274</td>\n",
       "      <td>1901843.38</td>\n",
       "      <td>2283314.82</td>\n",
       "      <td>381471.44</td>\n",
       "    </tr>\n",
       "    <tr>\n",
       "      <th>19</th>\n",
       "      <td>9160</td>\n",
       "      <td>1663402.64</td>\n",
       "      <td>2017606.78</td>\n",
       "      <td>354204.14</td>\n",
       "    </tr>\n",
       "    <tr>\n",
       "      <th>...</th>\n",
       "      <td>...</td>\n",
       "      <td>...</td>\n",
       "      <td>...</td>\n",
       "      <td>...</td>\n",
       "    </tr>\n",
       "    <tr>\n",
       "      <th>70</th>\n",
       "      <td>9909</td>\n",
       "      <td>745644.59</td>\n",
       "      <td>616213.09</td>\n",
       "      <td>-129431.50</td>\n",
       "    </tr>\n",
       "    <tr>\n",
       "      <th>50</th>\n",
       "      <td>9334</td>\n",
       "      <td>1584679.45</td>\n",
       "      <td>1440570.97</td>\n",
       "      <td>-144108.48</td>\n",
       "    </tr>\n",
       "    <tr>\n",
       "      <th>46</th>\n",
       "      <td>9310</td>\n",
       "      <td>2495384.17</td>\n",
       "      <td>2345218.70</td>\n",
       "      <td>-150165.47</td>\n",
       "    </tr>\n",
       "    <tr>\n",
       "      <th>11</th>\n",
       "      <td>9144</td>\n",
       "      <td>2436456.01</td>\n",
       "      <td>2266446.89</td>\n",
       "      <td>-170009.12</td>\n",
       "    </tr>\n",
       "    <tr>\n",
       "      <th>14</th>\n",
       "      <td>9149</td>\n",
       "      <td>1374972.79</td>\n",
       "      <td>1184364.36</td>\n",
       "      <td>-190608.42</td>\n",
       "    </tr>\n",
       "  </tbody>\n",
       "</table>\n",
       "<p>76 rows × 4 columns</p>\n",
       "</div>"
      ],
      "text/plain": [
       "    gerente  total_2022  total_2023  Crecimiento\n",
       "1      9116  2887119.17  3700928.40    813809.24\n",
       "75     9922  2810509.57  3267508.32    456998.75\n",
       "35     9218  1189113.04  1618350.21    429237.17\n",
       "38     9274  1901843.38  2283314.82    381471.44\n",
       "19     9160  1663402.64  2017606.78    354204.14\n",
       "..      ...         ...         ...          ...\n",
       "70     9909   745644.59   616213.09   -129431.50\n",
       "50     9334  1584679.45  1440570.97   -144108.48\n",
       "46     9310  2495384.17  2345218.70   -150165.47\n",
       "11     9144  2436456.01  2266446.89   -170009.12\n",
       "14     9149  1374972.79  1184364.36   -190608.42\n",
       "\n",
       "[76 rows x 4 columns]"
      ]
     },
     "execution_count": 45,
     "metadata": {},
     "output_type": "execute_result"
    }
   ],
   "source": [
    "df_temp.sort_values(by='Crecimiento', ascending=False)"
   ]
  },
  {
   "cell_type": "markdown",
   "metadata": {},
   "source": [
    "#### 2. Cuánto fue el crecimiento de la zona Antioquia 1 en GCAR entre 2022 y 2023? "
   ]
  },
  {
   "cell_type": "markdown",
   "metadata": {},
   "source": [
    "    Inicialmente para resolver esta pregunta identificamos el codigo de la zona Antioquia 1 del dataFrame df_zonas_codigos el cual corresponde a 22110"
   ]
  },
  {
   "cell_type": "code",
   "execution_count": 46,
   "metadata": {},
   "outputs": [
    {
     "data": {
      "text/html": [
       "<div>\n",
       "<style scoped>\n",
       "    .dataframe tbody tr th:only-of-type {\n",
       "        vertical-align: middle;\n",
       "    }\n",
       "\n",
       "    .dataframe tbody tr th {\n",
       "        vertical-align: top;\n",
       "    }\n",
       "\n",
       "    .dataframe thead th {\n",
       "        text-align: right;\n",
       "    }\n",
       "</style>\n",
       "<table border=\"1\" class=\"dataframe\">\n",
       "  <thead>\n",
       "    <tr style=\"text-align: right;\">\n",
       "      <th></th>\n",
       "      <th>zona</th>\n",
       "      <th>Desc</th>\n",
       "    </tr>\n",
       "  </thead>\n",
       "  <tbody>\n",
       "    <tr>\n",
       "      <th>0</th>\n",
       "      <td>22110</td>\n",
       "      <td>VP Empresas zona Antioquia 1</td>\n",
       "    </tr>\n",
       "    <tr>\n",
       "      <th>1</th>\n",
       "      <td>22120</td>\n",
       "      <td>VP Empresas zona Antioquia 2</td>\n",
       "    </tr>\n",
       "    <tr>\n",
       "      <th>2</th>\n",
       "      <td>22210</td>\n",
       "      <td>VP Empresas zona Bogotá 1</td>\n",
       "    </tr>\n",
       "    <tr>\n",
       "      <th>3</th>\n",
       "      <td>22210</td>\n",
       "      <td>VP Empresas zona Bogotá 1</td>\n",
       "    </tr>\n",
       "    <tr>\n",
       "      <th>4</th>\n",
       "      <td>22220</td>\n",
       "      <td>VP Empresas zona Bogotá 2</td>\n",
       "    </tr>\n",
       "    <tr>\n",
       "      <th>5</th>\n",
       "      <td>22230</td>\n",
       "      <td>VP Empresas zona Bogotá 3</td>\n",
       "    </tr>\n",
       "    <tr>\n",
       "      <th>6</th>\n",
       "      <td>22300</td>\n",
       "      <td>VP Empresas zona Centro</td>\n",
       "    </tr>\n",
       "    <tr>\n",
       "      <th>7</th>\n",
       "      <td>22400</td>\n",
       "      <td>VP Empresas zona Sur</td>\n",
       "    </tr>\n",
       "    <tr>\n",
       "      <th>8</th>\n",
       "      <td>22500</td>\n",
       "      <td>VP Empresas zona Caribe</td>\n",
       "    </tr>\n",
       "  </tbody>\n",
       "</table>\n",
       "</div>"
      ],
      "text/plain": [
       "    zona                          Desc\n",
       "0  22110  VP Empresas zona Antioquia 1\n",
       "1  22120  VP Empresas zona Antioquia 2\n",
       "2  22210     VP Empresas zona Bogotá 1\n",
       "3  22210     VP Empresas zona Bogotá 1\n",
       "4  22220     VP Empresas zona Bogotá 2\n",
       "5  22230     VP Empresas zona Bogotá 3\n",
       "6  22300       VP Empresas zona Centro\n",
       "7  22400          VP Empresas zona Sur\n",
       "8  22500       VP Empresas zona Caribe"
      ]
     },
     "execution_count": 46,
     "metadata": {},
     "output_type": "execute_result"
    }
   ],
   "source": [
    "df_zonas_codigos"
   ]
  },
  {
   "cell_type": "markdown",
   "metadata": {},
   "source": [
    "    Buscamos el codigo de GCAR en el dataFrame df_rubros_codigos el cual corresponde a 95999"
   ]
  },
  {
   "cell_type": "code",
   "execution_count": 47,
   "metadata": {},
   "outputs": [
    {
     "data": {
      "text/html": [
       "<div>\n",
       "<style scoped>\n",
       "    .dataframe tbody tr th:only-of-type {\n",
       "        vertical-align: middle;\n",
       "    }\n",
       "\n",
       "    .dataframe tbody tr th {\n",
       "        vertical-align: top;\n",
       "    }\n",
       "\n",
       "    .dataframe thead th {\n",
       "        text-align: right;\n",
       "    }\n",
       "</style>\n",
       "<table border=\"1\" class=\"dataframe\">\n",
       "  <thead>\n",
       "    <tr style=\"text-align: right;\">\n",
       "      <th></th>\n",
       "      <th>descri_rubro</th>\n",
       "      <th>cod_rubro</th>\n",
       "    </tr>\n",
       "  </thead>\n",
       "  <tbody>\n",
       "    <tr>\n",
       "      <th>0</th>\n",
       "      <td>GCAR</td>\n",
       "      <td>95999</td>\n",
       "    </tr>\n",
       "    <tr>\n",
       "      <th>1</th>\n",
       "      <td>Tamaño comercial</td>\n",
       "      <td>96450</td>\n",
       "    </tr>\n",
       "  </tbody>\n",
       "</table>\n",
       "</div>"
      ],
      "text/plain": [
       "       descri_rubro  cod_rubro\n",
       "0              GCAR      95999\n",
       "1  Tamaño comercial      96450"
      ]
     },
     "execution_count": 47,
     "metadata": {},
     "output_type": "execute_result"
    }
   ],
   "source": [
    "df_rubros_codigos"
   ]
  },
  {
   "cell_type": "markdown",
   "metadata": {},
   "source": [
    "    filtramos la zona 22110 y el codigo de rubro 95999 y sumamos los totales y el crecimiento para concluir que el crecimiento de la zona Antioquia 1 en GCAR fue de 993.99"
   ]
  },
  {
   "cell_type": "code",
   "execution_count": 51,
   "metadata": {},
   "outputs": [],
   "source": [
    "df_temp = df_datos.loc[(df_datos['cod_rubro'] == 95999) & (df_datos['zona'] == 22110)].groupby('zona').agg({'total_2022': 'sum', 'total_2023': 'sum', 'Crecimiento': 'sum'}).reset_index().sort_values(by='Crecimiento', ascending=False)"
   ]
  },
  {
   "cell_type": "markdown",
   "metadata": {},
   "source": [
    "    Calculamos el porcentaje de crecimiento equivalente a 1.69%"
   ]
  },
  {
   "cell_type": "code",
   "execution_count": 57,
   "metadata": {},
   "outputs": [
    {
     "data": {
      "text/plain": [
       "0   1.69\n",
       "Name: Porcentaje_Crecimiento, dtype: float64"
      ]
     },
     "execution_count": 57,
     "metadata": {},
     "output_type": "execute_result"
    }
   ],
   "source": [
    "df_temp['Porcentaje_Crecimiento'] = (df_temp['Crecimiento'] / df_temp['total_2022']) * 100\n",
    "df_temp['Porcentaje_Crecimiento']"
   ]
  },
  {
   "cell_type": "markdown",
   "metadata": {},
   "source": [
    "#### 3. Cuál fue la zona con menor GCAR en el segundo semestre de 2022 y la de mayor tamaño comercial en todo 2023? "
   ]
  },
  {
   "cell_type": "code",
   "execution_count": null,
   "metadata": {},
   "outputs": [],
   "source": []
  }
 ],
 "metadata": {
  "kernelspec": {
   "display_name": "venv",
   "language": "python",
   "name": "python3"
  },
  "language_info": {
   "codemirror_mode": {
    "name": "ipython",
    "version": 3
   },
   "file_extension": ".py",
   "mimetype": "text/x-python",
   "name": "python",
   "nbconvert_exporter": "python",
   "pygments_lexer": "ipython3",
   "version": "3.9.12"
  }
 },
 "nbformat": 4,
 "nbformat_minor": 2
}
